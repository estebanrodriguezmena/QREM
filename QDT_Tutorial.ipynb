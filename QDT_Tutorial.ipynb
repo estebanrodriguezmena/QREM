{
 "cells": [
  {
   "cell_type": "markdown",
   "metadata": {},
   "source": [
    "# Quantum Detector Tomography\n",
    "\n",
    "This notebook contains examples for using QDT module with Qiskit."
   ]
  },
  {
   "cell_type": "code",
   "execution_count": 1,
   "metadata": {},
   "outputs": [],
   "source": [
    "import povmtools\n",
    "import ancillary_functions as anf\n",
    "import numpy as np\n",
    "\n",
    "from qiskit import IBMQ, Aer, execute\n",
    "from qiskit.providers.aer import noise\n",
    "\n",
    "from quantum_tomography_qiskit import detector_tomography_circuits\n",
    "from DetectorTomographyFitter import DetectorTomographyFitter"
   ]
  },
  {
   "cell_type": "markdown",
   "metadata": {},
   "source": [
    "## Single Qubit detector tomography example\n",
    "\n",
    "In below example it's shown how to implement single-qubit Quantum Detector Tomography (QDT) using our module. \n",
    "\n",
    "First we need to create quantum circuits which will be used to implement QDT. To do so, need to define indices of qubits on which we want to perform tomography. In this example we choose single qubit with label 3."
   ]
  },
  {
   "cell_type": "code",
   "execution_count": 2,
   "metadata": {},
   "outputs": [],
   "source": [
    "# choose qubit indices\n",
    "test_qubit_index = [3]"
   ]
  },
  {
   "cell_type": "markdown",
   "metadata": {},
   "source": [
    "We will also need kets upon which the tomography shall be based. In this scenario we shall use overcomplete set of Pauli's eigen states. Our module provides them in following way, using povmtools module."
   ]
  },
  {
   "cell_type": "code",
   "execution_count": 3,
   "metadata": {},
   "outputs": [],
   "source": [
    "test_probe_kets = povmtools.pauli_probe_eigenkets"
   ]
  },
  {
   "cell_type": "markdown",
   "metadata": {},
   "source": [
    "Now we call detector_tomography_circuits method, which will generate desired circuits. "
   ]
  },
  {
   "cell_type": "code",
   "execution_count": 4,
   "metadata": {},
   "outputs": [],
   "source": [
    "test_circuits = detector_tomography_circuits(test_qubit_index, test_probe_kets)"
   ]
  },
  {
   "cell_type": "markdown",
   "metadata": {},
   "source": [
    "### User-defined probe states\n",
    "\n",
    "User can define list of single-qubit state vectors which will be used to perform tomography of the detector (in the case of multi-qubit tomography, only single-qubit set is required - the multi-qubit states are constructed from proper tensor products of those, see multi-qubit QDT example below).\n",
    "\n",
    "In order for tomography to work properly, the set of passed qubit state vectors, when mapped onto quantum states (i.e., density matrices), must span the space of Hermitian matrices. In other words, it must form an operator basis (it might be an overcomplete basis).\n",
    "\n",
    "If no probe_kets are provided then overcomplete set of Pauli's eigenstates is used:\n",
    "\n",
    "{|0>, |1>, |X+>, |X->, |Y+>, |Y->}"
   ]
  },
  {
   "cell_type": "markdown",
   "metadata": {},
   "source": [
    "### Implementation of QDT\n",
    "\n",
    "After defining tomography circuits, we need to implement them. \n",
    "\n",
    "To do so, we use Qiskit simulator in the following way."
   ]
  },
  {
   "cell_type": "code",
   "execution_count": 5,
   "metadata": {},
   "outputs": [],
   "source": [
    "backend = Aer.get_backend('qasm_simulator')\n",
    "\n",
    "#define number of measurement repetitions\n",
    "shots_number = 2000\n",
    "\n",
    "QDT_job = execute(test_circuits, backend=backend, shots=shots_number)\n",
    "\n",
    "results = QDT_job.result()"
   ]
  },
  {
   "cell_type": "markdown",
   "metadata": {},
   "source": [
    "With probe kets and job results we can begin to perform QDT. We start with instantiating DetectorTomographyFitter class object."
   ]
  },
  {
   "cell_type": "code",
   "execution_count": 6,
   "metadata": {},
   "outputs": [],
   "source": [
    "DTF = DetectorTomographyFitter()"
   ]
  },
  {
   "cell_type": "markdown",
   "metadata": {},
   "source": [
    "This class contains method called get_maximum_likelihood_povm_estimator which returns the classical description of our detector. This methods requires results and probe kets as arguments. We call the method and print the results."
   ]
  },
  {
   "cell_type": "code",
   "execution_count": 7,
   "metadata": {},
   "outputs": [
    {
     "name": "stdout",
     "output_type": "stream",
     "text": [
      "[[9.99980972e-01+1.12496563e-22j 2.99997892e-03+3.16664875e-03j]\n",
      " [2.99997892e-03-3.16664875e-03j 1.90278999e-05+1.11834819e-21j]]\n",
      "[[ 1.90278999e-05+4.63221143e-22j -2.99997892e-03-3.16664875e-03j]\n",
      " [-2.99997892e-03+3.16664875e-03j  9.99980972e-01+1.52077420e-17j]]\n"
     ]
    }
   ],
   "source": [
    "#we pass list of results (in this case singular) to the method\n",
    "ml_povm_estimator = DTF.get_maximum_likelihood_povm_estimator([results], test_probe_kets)\n",
    "\n",
    "for Mi in ml_povm_estimator:\n",
    "    print(Mi)"
   ]
  },
  {
   "cell_type": "markdown",
   "metadata": {},
   "source": [
    "In this case, the ideal measurement correspond to single qubit projective measurement in computational basis:"
   ]
  },
  {
   "cell_type": "code",
   "execution_count": 8,
   "metadata": {},
   "outputs": [
    {
     "name": "stdout",
     "output_type": "stream",
     "text": [
      "[[1. 0.]\n",
      " [0. 0.]]\n",
      "[[0. 0.]\n",
      " [0. 1.]]\n"
     ]
    }
   ],
   "source": [
    "ideal_measurement = povmtools.computational_projectors(d=2)\n",
    "for Pi in ideal_measurement:\n",
    "    print(Pi)"
   ]
  },
  {
   "cell_type": "markdown",
   "metadata": {},
   "source": [
    "Let us calculate operational distance between estimator and perfect measurement:"
   ]
  },
  {
   "cell_type": "code",
   "execution_count": 9,
   "metadata": {},
   "outputs": [
    {
     "name": "stdout",
     "output_type": "stream",
     "text": [
      "0.004362098103364155\n"
     ]
    }
   ],
   "source": [
    "Dop=povmtools.operational_distance_POVMs(ml_povm_estimator,ideal_measurement)\n",
    "print(Dop)"
   ]
  },
  {
   "cell_type": "markdown",
   "metadata": {},
   "source": [
    "We see that it is quite small number, but not exactly 0. The reason is that in the execution of circuits we **sample** from ideal distributions, hence our results are affected by statistical fluctuations.\n",
    "\n",
    "To see that, let us increase number of shots by factor ~16, which should decrease statistical errors roughly by factor ~4."
   ]
  },
  {
   "cell_type": "code",
   "execution_count": 10,
   "metadata": {},
   "outputs": [],
   "source": [
    "backend = Aer.get_backend('qasm_simulator')\n",
    "\n",
    "#define number of measurement repetitions\n",
    "shots_number = 2000*16\n",
    "\n",
    "QDT_job_big_statistics = execute(test_circuits, backend=backend, shots=shots_number)\n",
    "\n",
    "results_big_statistics = QDT_job_big_statistics.result()\n",
    "\n",
    "#get estimator\n",
    "DTF_big_statistics = DetectorTomographyFitter()\n",
    "ml_povm_estimator_big_statistics = DTF.get_maximum_likelihood_povm_estimator([results_big_statistics], test_probe_kets)"
   ]
  },
  {
   "cell_type": "code",
   "execution_count": 11,
   "metadata": {},
   "outputs": [
    {
     "name": "stdout",
     "output_type": "stream",
     "text": [
      "0.0014688983106953245\n"
     ]
    }
   ],
   "source": [
    "#calculate distance\n",
    "Dop_big_statistics=povmtools.operational_distance_POVMs(ml_povm_estimator_big_statistics,ideal_measurement)\n",
    "print(Dop_big_statistics)"
   ]
  },
  {
   "cell_type": "markdown",
   "metadata": {},
   "source": [
    "## Multiple qubit case\n",
    "\n",
    "In the mutli-qubit QDT scenario, the only difference is in defining set of indices."
   ]
  },
  {
   "cell_type": "code",
   "execution_count": 12,
   "metadata": {},
   "outputs": [],
   "source": [
    "# choose qubit indices\n",
    "test_qubit_indices = [3, 1]"
   ]
  },
  {
   "cell_type": "markdown",
   "metadata": {},
   "source": [
    "In all methods, we use convention that **we number qubits in the Hilbert space in ascending order**. Hence in this example the qubits will be sorted such so qubit no. 1 is first and qubit no. 3 is second in the two-qubit Hilbert space."
   ]
  },
  {
   "cell_type": "code",
   "execution_count": 15,
   "metadata": {},
   "outputs": [],
   "source": [
    "#Define probe kets. Note that we define them only for single qubit, in the same way as before. \n",
    "test_probe_kets = povmtools.pauli_probe_eigenkets\n",
    "\n",
    "#get circuits\n",
    "test_circuits_multiple_qubits = detector_tomography_circuits(test_qubit_indices, test_probe_kets)\n",
    "\n",
    "#define number of repetitions\n",
    "shots_number=8192\n",
    "\n",
    "#run job on simulator\n",
    "backend = Aer.get_backend('qasm_simulator')\n",
    "QDT_job_multiple_qubits = execute(test_circuits_multiple_qubits, backend=backend, shots=shots_number)\n",
    "results_multiple_qubits = QDT_job_multiple_qubits.result()\n",
    "\n",
    "#get estimator\n",
    "DTF = DetectorTomographyFitter()\n",
    "ml_povm_estimator_multiple_qubits = DTF.get_maximum_likelihood_povm_estimator([results_multiple_qubits], test_probe_kets)"
   ]
  },
  {
   "cell_type": "markdown",
   "metadata": {},
   "source": [
    "Again, let's compare it with perfect measurement:"
   ]
  },
  {
   "cell_type": "code",
   "execution_count": 16,
   "metadata": {},
   "outputs": [
    {
     "name": "stdout",
     "output_type": "stream",
     "text": [
      "0.003800062588464183\n"
     ]
    }
   ],
   "source": [
    "#get ideal measurement in computational basis\n",
    "ideal_measurement_multiple_qubits = povmtools.computational_projectors(d=2**len(test_qubit_indices))\n",
    "\n",
    "#calculate distance\n",
    "Dop_multiple_qubits=povmtools.operational_distance_POVMs(ml_povm_estimator_multiple_qubits,ideal_measurement_multiple_qubits)\n",
    "print(Dop_multiple_qubits)"
   ]
  },
  {
   "cell_type": "code",
   "execution_count": null,
   "metadata": {},
   "outputs": [],
   "source": []
  }
 ],
 "metadata": {
  "kernelspec": {
   "display_name": "Python 3",
   "language": "python",
   "name": "python3"
  },
  "language_info": {
   "codemirror_mode": {
    "name": "ipython",
    "version": 3
   },
   "file_extension": ".py",
   "mimetype": "text/x-python",
   "name": "python",
   "nbconvert_exporter": "python",
   "pygments_lexer": "ipython3",
   "version": "3.7.6"
  },
  "pycharm": {
   "stem_cell": {
    "cell_type": "raw",
    "metadata": {
     "collapsed": false
    },
    "source": []
   }
  }
 },
 "nbformat": 4,
 "nbformat_minor": 4
}
