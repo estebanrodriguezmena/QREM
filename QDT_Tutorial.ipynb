{
 "cells": [
  {
   "cell_type": "markdown",
   "metadata": {},
   "source": [
    "# Quantum Detector Tomography\n",
    "\n",
    "This notebook contains examples for using QDT module with Qiskit. test_utilities module, with methods used only in tests, shall be used."
   ]
  },
  {
   "cell_type": "code",
   "execution_count": 1,
   "metadata": {},
   "outputs": [],
   "source": [
    "import povmtools\n",
    "import ancillary_functions as anf\n",
    "import numpy as np\n",
    "\n",
    "from qiskit import IBMQ, Aer, execute\n",
    "from qiskit.providers.aer import noise\n",
    "\n",
    "from quantum_tomography_qiskit import detector_tomography_circuits\n",
    "from DetectorTomographyFitter import DetectorTomographyFitter"
   ]
  },
  {
   "cell_type": "markdown",
   "metadata": {},
   "source": [
    "## Single Qubit detector tomography example\n",
    "\n",
    "In below example it's shown how to implement single-qubit Quantum Detector Tomography (QDT) using our module. \n",
    "\n",
    "First we need to create quantum circuits which will be used to implement QDT. To do so, need to define indices of qubits on which we want to perform tomography. In this example we choose single qubit with label 3."
   ]
  },
  {
   "cell_type": "code",
   "execution_count": 2,
   "metadata": {},
   "outputs": [],
   "source": [
    "# choose qubit indices\n",
    "test_qubit_indices = [3]"
   ]
  },
  {
   "cell_type": "markdown",
   "metadata": {},
   "source": [
    "We will also need kets upon which the tomography shall be based. In this scenario we shall use overcomplete set of Pauli's eigen states. Our module provides them in following way, using povmtools module."
   ]
  },
  {
   "cell_type": "code",
   "execution_count": 3,
   "metadata": {},
   "outputs": [],
   "source": [
    "test_probe_kets = povmtools.pauli_probe_eigenkets"
   ]
  },
  {
   "cell_type": "markdown",
   "metadata": {},
   "source": [
    "Now we call detector_tomography_circuits method, which will generate desired circuits. "
   ]
  },
  {
   "cell_type": "code",
   "execution_count": 4,
   "metadata": {},
   "outputs": [],
   "source": [
    "test_circuits = detector_tomography_circuits(test_qubit_indices, test_probe_kets)"
   ]
  },
  {
   "cell_type": "markdown",
   "metadata": {},
   "source": [
    "### User-defined probe states\n",
    "\n",
    "User can define list of single-qubit state vectors which will be used to perform tomography of the detector (in the case of multi-qubit tomography, only single-qubit set is required - the multi-qubit states are constructed from proper tensor products of those, see multi-qubit QDT example below).\n",
    "\n",
    "In order for tomography to work properly, the set of passed qubit state vectors, when mapped onto quantum states (i.e., density matrices), must span the space of Hermitian matrices. In other words, it must form an operator basis (it might be an overcomplete basis).\n",
    "\n",
    "If no probe_kets are provided then overcomplete set of Pauli's eigen states is used:\n",
    "\n",
    "{|0>, |1>, |X+>, |X->, |Y+>, |Y->}"
   ]
  },
  {
   "cell_type": "markdown",
   "metadata": {},
   "source": [
    "### Implementation of QDT\n",
    "\n",
    "After defining tomography circuits, we need to implement them. \n",
    "\n",
    "To do so, we use Qiskit simulator in the following way."
   ]
  },
  {
   "cell_type": "code",
   "execution_count": 5,
   "metadata": {},
   "outputs": [
    {
     "name": "stderr",
     "output_type": "stream",
     "text": [
      "Automatic discovery of qconfig credentials failed: \"Error loading Qconfig.py: module 'Qconfig' has no attribute 'APItoken'\"\n"
     ]
    }
   ],
   "source": [
    "backend = Aer.get_backend('qasm_simulator')\n",
    "\n",
    "# No noise\n",
    "QDT_job = execute(test_circuits, backend=backend, shots=8192)\n",
    "\n",
    "# With noise\n",
    "#QDT_job = execute(test_circuits, backend=backend, shots=8192, noise_model=noise_model)\n",
    "\n",
    "results = QDT_job.result()"
   ]
  },
  {
   "cell_type": "markdown",
   "metadata": {},
   "source": [
    "With probe kets and job results we can begin to perform QDT. We start with instantiating DetectorTomographyFitter class object."
   ]
  },
  {
   "cell_type": "code",
   "execution_count": 6,
   "metadata": {},
   "outputs": [],
   "source": [
    "DTF = DetectorTomographyFitter()"
   ]
  },
  {
   "cell_type": "markdown",
   "metadata": {},
   "source": [
    "This class contains method called get_maximum_likelihood_povm_estimator which returns the classical description of our detector. This methods requires results and probe kets as arguments. We call the method and print the results."
   ]
  },
  {
   "cell_type": "code",
   "execution_count": 9,
   "metadata": {},
   "outputs": [
    {
     "name": "stdout",
     "output_type": "stream",
     "text": [
      "[array([[ 9.99977275e-01+9.71445147e-17j, -2.44132332e-04-4.76079572e-03j],\n",
      "       [-2.44132332e-04+4.76079572e-03j,  2.27252929e-05-6.77626358e-20j]]), array([[2.27252929e-05-3.25260652e-19j, 2.44132332e-04+4.76079572e-03j],\n",
      "       [2.44132332e-04-4.76079572e-03j, 9.99977275e-01-1.38777878e-17j]])]\n"
     ]
    }
   ],
   "source": [
    "ml_povm_estimator = DTF.get_maximum_likelihood_povm_estimator(results, test_probe_states)\n",
    "\n",
    "print(ml_povm_estimator)"
   ]
  },
  {
   "cell_type": "markdown",
   "metadata": {},
   "source": [
    "## Multiple qubit case\n",
    "\n",
    "In the mutli-qubit QDT scenario, the only difference is using our approach is using desired qubit indices. Providing following qubit indices will return QDT for measurement on qubits 3 and 1 (considered as one measurement)."
   ]
  },
  {
   "cell_type": "code",
   "execution_count": null,
   "metadata": {},
   "outputs": [],
   "source": [
    "# choose qubit indices\n",
    "test_qubit_indices = [3, 1]"
   ]
  },
  {
   "cell_type": "markdown",
   "metadata": {},
   "source": [
    "The order of qubits is not important, as **the returned estimator is always for qubits given in ascending order**."
   ]
  }
 ],
 "metadata": {
  "kernelspec": {
   "display_name": "Python 3",
   "language": "python",
   "name": "python3"
  },
  "language_info": {
   "codemirror_mode": {
    "name": "ipython",
    "version": 3
   },
   "file_extension": ".py",
   "mimetype": "text/x-python",
   "name": "python",
   "nbconvert_exporter": "python",
   "pygments_lexer": "ipython3",
   "version": "3.7.6"
  },
  "pycharm": {
   "stem_cell": {
    "cell_type": "raw",
    "source": [],
    "metadata": {
     "collapsed": false
    }
   }
  }
 },
 "nbformat": 4,
 "nbformat_minor": 4
}