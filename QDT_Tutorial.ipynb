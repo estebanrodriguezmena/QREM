{
 "cells": [
  {
   "cell_type": "markdown",
   "metadata": {},
   "source": [
    "# Quantum Detector Tomography\n",
    "\n",
    "This notebook contains examples for using QDT module with Qiskit."
   ]
  },
  {
   "cell_type": "code",
   "execution_count": 1,
   "metadata": {},
   "outputs": [],
   "source": [
    "import povmtools\n",
    "import ancillary_functions as anf\n",
    "import numpy as np\n",
    "\n",
    "from qiskit import IBMQ, Aer, execute\n",
    "from qiskit.providers.aer import noise\n",
    "\n",
    "from quantum_tomography_qiskit import detector_tomography_circuits\n",
    "from DetectorTomographyFitter import DetectorTomographyFitter"
   ]
  },
  {
   "cell_type": "markdown",
   "metadata": {},
   "source": [
    "## Single Qubit detector tomography example\n",
    "\n",
    "In below example it's shown how to implement single-qubit Quantum Detector Tomography (QDT) using our module. \n",
    "\n",
    "First we need to create quantum circuits which will be used to implement QDT. To do so, need to define indices of qubits on which we want to perform tomography. In this example we choose single qubit with label 3."
   ]
  },
  {
   "cell_type": "code",
   "execution_count": 2,
   "metadata": {},
   "outputs": [],
   "source": [
    "# choose qubit indices\n",
    "test_qubit_index = [3]"
   ]
  },
  {
   "cell_type": "markdown",
   "metadata": {},
   "source": [
    "We will also need kets upon which the tomography shall be based. In this scenario we shall use overcomplete set of Pauli's eigen states. Our module provides them in following way, using povmtools module."
   ]
  },
  {
   "cell_type": "code",
   "execution_count": 3,
   "metadata": {},
   "outputs": [],
   "source": [
    "test_probe_kets = povmtools.pauli_probe_eigenkets"
   ]
  },
  {
   "cell_type": "markdown",
   "metadata": {},
   "source": [
    "Now we call detector_tomography_circuits method, which will generate desired circuits. "
   ]
  },
  {
   "cell_type": "code",
   "execution_count": 4,
   "metadata": {},
   "outputs": [],
   "source": [
    "test_circuits = detector_tomography_circuits(test_qubit_index, test_probe_kets)"
   ]
  },
  {
   "cell_type": "markdown",
   "metadata": {},
   "source": [
    "### User-defined probe states\n",
    "\n",
    "User can define list of single-qubit state vectors which will be used to perform tomography of the detector (in the case of multi-qubit tomography, only single-qubit set is required - the multi-qubit states are constructed from proper tensor products of those, see multi-qubit QDT example below).\n",
    "\n",
    "In order for tomography to work properly, the set of passed qubit state vectors, when mapped onto quantum states (i.e., density matrices), must span the space of Hermitian matrices. In other words, it must form an operator basis (it might be an overcomplete basis).\n",
    "\n",
    "If no probe_kets are provided then overcomplete set of Pauli's eigenstates is used:\n",
    "\n",
    "{|0>, |1>, |X+>, |X->, |Y+>, |Y->}"
   ]
  },
  {
   "cell_type": "markdown",
   "metadata": {},
   "source": [
    "### Implementation of QDT\n",
    "\n",
    "After defining tomography circuits, we need to implement them. \n",
    "\n",
    "To do so, we use Qiskit simulator in the following way."
   ]
  },
  {
   "cell_type": "code",
   "execution_count": 5,
   "metadata": {},
   "outputs": [],
   "source": [
    "backend = Aer.get_backend('qasm_simulator')\n",
    "\n",
    "#define number of measurement repetitions\n",
    "shots_number = 2000\n",
    "\n",
    "QDT_job = execute(test_circuits, backend=backend, shots=shots_number)\n",
    "\n",
    "results = QDT_job.result()"
   ]
  },
  {
   "cell_type": "markdown",
   "metadata": {},
   "source": [
    "With probe kets and job results we can begin to perform QDT. We start with instantiating DetectorTomographyFitter class object."
   ]
  },
  {
   "cell_type": "code",
   "execution_count": 6,
   "metadata": {},
   "outputs": [],
   "source": [
    "DTF = DetectorTomographyFitter()"
   ]
  },
  {
   "cell_type": "markdown",
   "metadata": {},
   "source": [
    "This class contains method called get_maximum_likelihood_povm_estimator which returns the classical description of our detector. This methods requires results and probe kets as arguments. We call the method and print the results."
   ]
  },
  {
   "cell_type": "code",
   "execution_count": 7,
   "metadata": {},
   "outputs": [
    {
     "name": "stdout",
     "output_type": "stream",
     "text": [
      "[[9.99827714e-01-4.83338176e-20j 1.25004513e-02-3.99939602e-03j]\n",
      " [1.25004513e-02+3.99939602e-03j 1.72286133e-04-2.32404665e-20j]]\n",
      "[[ 1.72286133e-04+4.60574165e-20j -1.25004513e-02+3.99939602e-03j]\n",
      " [-1.25004513e-02-3.99939602e-03j  9.99827714e-01+4.01623319e-18j]]\n"
     ]
    }
   ],
   "source": [
    "#we pass list of results (in this case singular) to the method\n",
    "ml_povm_estimator = DTF.get_maximum_likelihood_povm_estimator([results], test_probe_kets)\n",
    "\n",
    "for m_i in ml_povm_estimator:\n",
    "    print(m_i)"
   ]
  },
  {
   "cell_type": "markdown",
   "metadata": {},
   "source": [
    "In this case, the ideal measurement correspond to single qubit projective measurement in computational basis:"
   ]
  },
  {
   "cell_type": "code",
   "execution_count": 8,
   "metadata": {},
   "outputs": [
    {
     "name": "stdout",
     "output_type": "stream",
     "text": [
      "[[1. 0.]\n",
      " [0. 0.]]\n",
      "[[0. 0.]\n",
      " [0. 1.]]\n"
     ]
    }
   ],
   "source": [
    "ideal_measurement = povmtools.computational_projectors(d=2)\n",
    "for Pi in ideal_measurement:\n",
    "    print(Pi)"
   ]
  },
  {
   "cell_type": "markdown",
   "metadata": {},
   "source": [
    "Let us calculate operational distance between estimator and perfect measurement:"
   ]
  },
  {
   "cell_type": "code",
   "execution_count": 9,
   "metadata": {},
   "outputs": [
    {
     "name": "stdout",
     "output_type": "stream",
     "text": [
      "0.013125781238545442\n"
     ]
    }
   ],
   "source": [
    "Dop=povmtools.operational_distance_POVMs(ml_povm_estimator,ideal_measurement)\n",
    "print(Dop)"
   ]
  },
  {
   "cell_type": "markdown",
   "metadata": {},
   "source": [
    "We see that it is quite small number, but not exactly 0. The reason is that in the execution of circuits we **sample** from ideal distributions, hence our results are affected by statistical fluctuations.\n",
    "\n",
    "To see that, let us increase number of shots by factor ~16, which should decrease statistical errors roughly by factor ~4."
   ]
  },
  {
   "cell_type": "code",
   "execution_count": 10,
   "metadata": {},
   "outputs": [],
   "source": [
    "backend = Aer.get_backend('qasm_simulator')\n",
    "\n",
    "#define number of measurement repetitions\n",
    "shots_number = 2000*16\n",
    "\n",
    "QDT_job_big_statistics = execute(test_circuits, backend=backend, shots=shots_number)\n",
    "\n",
    "results_big_statistics = QDT_job_big_statistics.result()\n",
    "\n",
    "#get estimator\n",
    "DTF_big_statistics = DetectorTomographyFitter()\n",
    "ml_povm_estimator_big_statistics = DTF.get_maximum_likelihood_povm_estimator([results_big_statistics], test_probe_kets)"
   ]
  },
  {
   "cell_type": "code",
   "execution_count": 11,
   "metadata": {},
   "outputs": [
    {
     "name": "stdout",
     "output_type": "stream",
     "text": [
      "0.0026344634483292766\n"
     ]
    }
   ],
   "source": [
    "#calculate distance\n",
    "Dop_big_statistics=povmtools.operational_distance_POVMs(ml_povm_estimator_big_statistics,ideal_measurement)\n",
    "print(Dop_big_statistics)"
   ]
  },
  {
   "cell_type": "markdown",
   "metadata": {},
   "source": [
    "## Multiple qubit case\n",
    "\n",
    "In the mutli-qubit QDT scenario, the only difference is in defining set of indices."
   ]
  },
  {
   "cell_type": "code",
   "execution_count": 12,
   "metadata": {},
   "outputs": [],
   "source": [
    "# choose qubit indices\n",
    "test_qubit_indices = [3, 1]"
   ]
  },
  {
   "cell_type": "markdown",
   "metadata": {},
   "source": [
    "In all methods, we use convention that **we number qubits in the Hilbert space in ascending order**. Hence in this example the qubits will be sorted such so qubit no. 1 is first and qubit no. 3 is second in the two-qubit Hilbert space."
   ]
  },
  {
   "cell_type": "code",
   "execution_count": 13,
   "metadata": {},
   "outputs": [],
   "source": [
    "#Define probe kets. Note that we define them only for single qubit, in the same way as before. \n",
    "test_probe_kets = povmtools.pauli_probe_eigenkets\n",
    "\n",
    "#get circuits\n",
    "test_circuits_multiple_qubits = detector_tomography_circuits(test_qubit_indices, test_probe_kets)\n",
    "\n",
    "#define number of repetitions\n",
    "shots_number=8192\n",
    "\n",
    "#run job on simulator\n",
    "backend = Aer.get_backend('qasm_simulator')\n",
    "QDT_job_multiple_qubits = execute(test_circuits_multiple_qubits, backend=backend, shots=shots_number)\n",
    "results_multiple_qubits = QDT_job_multiple_qubits.result()\n",
    "\n",
    "#get estimator\n",
    "DTF = DetectorTomographyFitter()\n",
    "ml_povm_estimator_multiple_qubits = DTF.get_maximum_likelihood_povm_estimator([results_multiple_qubits], test_probe_kets)"
   ]
  },
  {
   "cell_type": "markdown",
   "metadata": {},
   "source": [
    "Again, let's compare it with perfect measurement:"
   ]
  },
  {
   "cell_type": "code",
   "execution_count": 14,
   "metadata": {},
   "outputs": [
    {
     "name": "stdout",
     "output_type": "stream",
     "text": [
      "0.0034880281697436187\n"
     ]
    }
   ],
   "source": [
    "#get ideal measurement in computational basis\n",
    "ideal_measurement_multiple_qubits = povmtools.computational_projectors(d=2**len(test_qubit_indices))\n",
    "\n",
    "#calculate distance\n",
    "Dop_multiple_qubits=povmtools.operational_distance_POVMs(ml_povm_estimator_multiple_qubits,ideal_measurement_multiple_qubits)\n",
    "print(Dop_multiple_qubits)"
   ]
  },
  {
   "cell_type": "markdown",
   "metadata": {},
   "source": [
    "### Joining sets of qubits\n",
    "\n",
    "In general, performing tomography on the whole device is infeasible. For 15-qubit IBM's device it would require at least 4^15~1 073 741 824 quantum circuits. It is not possible to run so many circuits on any device (and even if it were possible, the sampling complexity would be daunting).\n",
    "\n",
    "However, under constraints on the locality of the correlations between errors in the device, it is possible to perform QDT. \n",
    "\n",
    "To see that, let us consider the layout of the 5q devices with T-shape connectivity (a lot of such devices is currently available in IBM Q Experience). Let us assume that from some other experiments, we have evidence that errors on qubits 0 and 2 do not depend on the measurements of qubits 1,3,4, but they do depend on each other. This is to be understood that doing tomography separately on q0 and q2 and joining the results give different results than doing it simultaneously on q0q2. Similarly, qubits 1,3,4 also depend on each other. \n",
    "\n",
    "In that case, we can perform two tomographies:"
   ]
  },
  {
   "cell_type": "code",
   "execution_count": 15,
   "metadata": {},
   "outputs": [],
   "source": [
    "# choose qubit indices\n",
    "qubit_indices0, qubit_indices1 = [0,2] , [1,3,4]\n",
    "\n",
    "\n",
    "#Define probe kets. Note that we define them only for single qubit, in the same way as before. \n",
    "probe_kets = povmtools.pauli_probe_eigenkets\n",
    "\n",
    "#get circuits\n",
    "circuits0, circuits1= detector_tomography_circuits(qubit_indices0, test_probe_kets), detector_tomography_circuits(qubit_indices1, test_probe_kets)\n",
    "\n",
    "#define number of repetitions\n",
    "shots_number=8192\n",
    "\n",
    "#run first job on simulator and get results\n",
    "backend = Aer.get_backend('qasm_simulator')\n",
    "QDT_job0 = execute(circuits0, backend=backend, shots=shots_number)\n",
    "results0 = QDT_job0.result()\n",
    "\n",
    "DTF = DetectorTomographyFitter()\n",
    "POVM0 = DTF.get_maximum_likelihood_povm_estimator([results0], test_probe_kets)\n",
    "\n",
    "#run second job on simulator and get results\n",
    "backend = Aer.get_backend('qasm_simulator')\n",
    "QDT_job1 = execute(circuits1, backend=backend, shots=shots_number)\n",
    "results1 = QDT_job1.result()\n",
    "\n",
    "DTF = DetectorTomographyFitter()\n",
    "POVM1 = DTF.get_maximum_likelihood_povm_estimator([results1], test_probe_kets)"
   ]
  },
  {
   "cell_type": "markdown",
   "metadata": {},
   "source": [
    "Now we have two tomographies of 4- and 8-dimensional POVMs. We would like to join them into big POVM on 32-dimensional Hilbert space:"
   ]
  },
  {
   "cell_type": "code",
   "execution_count": 16,
   "metadata": {},
   "outputs": [],
   "source": [
    "#define list of POVMs:\n",
    "list_POVMs = [POVM0, POVM1]\n",
    "\n",
    "#define list of associated qubit indices\n",
    "list_indices = [qubit_indices0, qubit_indices1]\n",
    "\n",
    "DTF = DetectorTomographyFitter()\n",
    "\n",
    "\n",
    "big_POVM=DTF.join_povms(list_POVMs,list_indices);"
   ]
  },
  {
   "cell_type": "markdown",
   "metadata": {},
   "source": [
    "This POVM is quite big, so it is impractical to print whole matrices. However, to check if the order of effects is correct, we may print only *i*th diagonal element of *i*th effect. Each such element should be ~1. \n",
    "\n",
    "If order would have been incorrect, we would sometimes obtain values close to 0:"
   ]
  },
  {
   "cell_type": "code",
   "execution_count": 17,
   "metadata": {},
   "outputs": [
    {
     "name": "stdout",
     "output_type": "stream",
     "text": [
      "0.99998\n",
      "0.99998\n",
      "0.99998\n",
      "0.99997\n",
      "0.99998\n",
      "0.99998\n",
      "0.99998\n",
      "0.99998\n",
      "0.99997\n",
      "0.99997\n",
      "0.99998\n",
      "0.99997\n",
      "0.99997\n",
      "0.99997\n",
      "0.99998\n",
      "0.99997\n",
      "0.99998\n",
      "0.99998\n",
      "0.99998\n",
      "0.99998\n",
      "0.99998\n",
      "0.99998\n",
      "0.99998\n",
      "0.99997\n",
      "0.99997\n",
      "0.99997\n",
      "0.99998\n",
      "0.99997\n",
      "0.99997\n",
      "0.99997\n",
      "0.99998\n",
      "0.99997\n"
     ]
    }
   ],
   "source": [
    "for i in range(2**(sum([len(x) for x in list_indices]))):\n",
    "    m_i = big_POVM[i]\n",
    "    \n",
    "    #take real part to not print 0j\n",
    "    print(np.real(np.round(m_i[i,i],5)))"
   ]
  },
  {
   "cell_type": "code",
   "execution_count": null,
   "metadata": {},
   "outputs": [],
   "source": []
  }
 ],
 "metadata": {
  "kernelspec": {
   "display_name": "Python 3",
   "language": "python",
   "name": "python3"
  },
  "language_info": {
   "codemirror_mode": {
    "name": "ipython",
    "version": 3
   },
   "file_extension": ".py",
   "mimetype": "text/x-python",
   "name": "python",
   "nbconvert_exporter": "python",
   "pygments_lexer": "ipython3",
   "version": "3.7.6"
  },
  "pycharm": {
   "stem_cell": {
    "cell_type": "raw",
    "metadata": {
     "collapsed": false
    },
    "source": []
   }
  }
 },
 "nbformat": 4,
 "nbformat_minor": 4
}
