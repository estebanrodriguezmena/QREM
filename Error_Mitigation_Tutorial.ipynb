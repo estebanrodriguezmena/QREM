{
 "cells": [
  {
   "cell_type": "markdown",
   "metadata": {},
   "source": [
    "# Error Mitigation\n",
    "\n",
    "This notebook contains theoretical background and examples for using our Error Mitigation module with Qiskit. \n",
    "We recommend to first read our [Quantum Detector Tomography Tutorial](QDT_Tutorial.ipynb)."
   ]
  },
  {
   "cell_type": "markdown",
   "metadata": {},
   "source": [
    "## Theoretical background\n",
    "Here we describe main theoretical concepts related to mitigation procedure. This description is based on Ref. [0]."
   ]
  },
  {
   "cell_type": "markdown",
   "metadata": {},
   "source": [
    "### Classical noise model\n",
    "\n",
    "Let us denote by $\\mathbf{M}$ a POVM describing noisy detector and $\\mathbf{P}$ denote ideal measurement. In classical\n",
    "noise model, we assume that the relation between the two is given by stochastic, invertible map $\\Lambda$:\n",
    "\n",
    "$$ \\mathbf{M} = \\Lambda \\mathbf{P}.$$\n",
    "\n",
    "Let us denote by $\\mathbf{p}_{exp}$ vector of probabilities obtained on a noisy detector $\\mathbf{M}$ measuring any\n",
    "quantum state, and by $\\mathbf{p_{ideal}}$ the analogous vector for ideal detector (for the same quantum state). From\n",
    "linearity of the Born's rule, it follows that two vectors are related by the same stochastic map as POVMs:\n",
    "\n",
    "$$ \\mathbf{p_{exp}} = \\Lambda \\mathbf{p_{ideal}}. $$\n",
    "\n",
    "Recall that we assumed that $\\Lambda$ is invertible. Hence by multiplying last equation by $\\Lambda^{-1}$ from both\n",
    "sides, we obtain\n",
    "\n",
    "$$ \\Lambda^{-1} \\mathbf{p_{exp}} = \\mathbf{p_{ideal}}. $$\n",
    "\n",
    "Effectively, by this kind of post-processing, we obtain statistics which we would have obtained on the perfect detector\n",
    "devices."
   ]
  },
  {
   "cell_type": "markdown",
   "metadata": {},
   "source": [
    "### Deviations from noise model\n",
    "\n",
    "There are several ways in which real noise can deviate from our model. Here we will show the way how to handle them."
   ]
  },
  {
   "cell_type": "markdown",
   "metadata": {},
   "source": [
    "#### Effects  on mitigation\n",
    "Above we assumed a very specific noise model. In practice it is likely that it will not be fulfilled exactly. In such a\n",
    "scenario, we may perform the following decomposition of POVM $M$ describing our device:\n",
    "$$ \\mathbf{M} = \\Lambda \\mathbf{P} + \\mathbf{\\Delta}\\ ,$$\n",
    "where $\\Delta$ denotes a \"coherent\" part of the noise and $\\Lambda$, as previously, is some stochastic, invertible map. \n",
    "\n",
    "In such a case, we can relate probability vector obtained on the noisy detector to ideal one in manner similar as before\n",
    "\n",
    "$$ \\mathbf{p_{exp}} = \\Lambda \\mathbf{p_{ideal}} + \\mathbf{d}\\ , $$\n",
    "where $\\mathbf{d}$ denotes a disturbance of probability vector due to existence of coherent part of the noise.\n",
    "If we now multiply the above expression by inverse of the noise matrix, we obtain\n",
    "\n",
    "$$ \\Lambda^{-1} \\mathbf{p_{exp}} = \\mathbf{p_{ideal}} + \\Lambda^{-1} \\mathbf{d}, \\  $$\n",
    "\n",
    "\n",
    "This clearly does not leave us with ideal statistics $\\mathbf{p_{ideal}}$, but consists of additional deviation term\n",
    "$\\Lambda^{-1} \\mathbf{d}$ which appears due to non-classicity of noise. Fortunately, this does not preclude our\n",
    "mitigation from working! The correction clearly will not be perfect in this case, however if deviation is sufficiently\n",
    "small, it still might be better then performing no correction at all.\n",
    "\n",
    "We can upper-bound the TV distance of corrected probability distribution from the ideal one by expression\n",
    "$$\n",
    "D_{TV}\\left( \\Lambda^{-1} \\mathbf{p_{exp}},\\mathbf{p_{ideal}} \\right) \\leq ||\\Lambda^{-1}||_{1 \\to 1}\n",
    "D_{op}(\\mathbf{M}, \\Lambda \\mathbf{P}) \\,\n",
    "$$\n",
    "where the $1\\rightarrow 1$ norm is defined as\n",
    "$$\n",
    "||A||_{1\\rightarrow1} = \\sup_{||v||_1} ||Av||_1 \\ .\n",
    "$$\n",
    "\n",
    "It is easy to see that if the detector $\\mathbf{M}$ is related to $\\mathbf{P}$ via only classical noise $\\Lambda$, then\n",
    "the above expression yields $0$, hence the mitigation works perfectly. In the presence of coherent measurement noise,\n",
    "term $D_{op}(\\mathbf{M}, \\Lambda \\mathbf{P})$ may be regarded as a measure of non-classicity of the noise."
   ]
  },
  {
   "cell_type": "markdown",
   "metadata": {},
   "source": [
    "#### How to choose decomposition?\n",
    "\n",
    "In general, we can always perform decomposition into \"classical\" and \"coherent\" part in infinitely many ways. However,\n",
    "for the ideal detector $P$ modeled as projective measurement in computational basis, there exists a perfectly natural\n",
    "ansatz. Namely, we propose to consider diagonal parts of POVM's $\\mathbf{M}$ elements to describe classical part of the\n",
    "noise. As a justification for such choice, note that elements of $\\mathbf{P}$ for such ideal detector model are\n",
    "diagonal, and the stochastic map would preserve the diagonality.\n",
    "\n",
    "Hence, after obtaining description of POVM $\\mathbf{M}$ from detector tomography, reconstruction of $\\Lambda$ can be\n",
    "achieved by taking only diagonal parts of POVM's elements."
   ]
  },
  {
   "cell_type": "markdown",
   "metadata": {},
   "source": [
    "### Finite-size statistics\n",
    "#### Statistical noise\n",
    "So far we have assumed that we have access to actual (noisy) probability distribution $\\mathbf{p_{exp}}$. However, in\n",
    "real life what we can get is only an estimator of this distribution\n",
    "\n",
    "$$ \\mathbf{p_{exp}} \\xrightarrow[\\text{}]{\\text{finite-size sampling}} \\mathbf{p}_{\\mathbf{exp}}^{\\text{est}}\\ ,$$ \n",
    "which simply consists of experimental frequencies of occurrences of particular outcomes.\n",
    "\n",
    "As a result, we will have some statistical noise in our estimator, which we can write as\n",
    "$$\n",
    "\\mathbf{p}_{\\mathbf{exp}}^{\\text{est}}  = \\mathbf{p}_{\\mathbf{exp}} + \\mathbf{s} \\ ,\n",
    "$$\n",
    "where $\\mathbf{s}$ is some vector of statistical deviations. \n",
    "\n",
    "Let us assume that we perform $n$-outcome measurement and gather $k$ samples (shots). Then the magnitude of those\n",
    "statistical deviations can be upper bound by\n",
    "$$\n",
    "D_{TV}\\left(\\mathbf{p}_{\\mathbf{exp}}^{\\text{est}} ,\n",
    "\\mathbf{p}_{\\mathbf{exp}} \\right) \\leq \\sqrt{\\frac{\\log{\\left(2^n-2\\right)}-\\log{\\text{Pr}_{wrong}}}{2k}}\n",
    "\\equiv \\epsilon \\ .\n",
    "$$\n",
    "Bounds on statistical deviations are usually probabilistic, and in the above equation we choose parameter\n",
    "$\\text{Pr}_{wrong}$ such that\n",
    "$$\n",
    "1-\\text{Pr}_{wrong} = \\text{Pr}\\left(D_{TV}\\left(\\mathbf{p}_{\\mathbf{exp}}^{\\text{est}} ,\n",
    "\\mathbf{p}_{\\mathbf{exp}} \\right) \\leq \\epsilon\\right) \\ .\n",
    "$$\n",
    "\n",
    "#### Effects on mitigation\n",
    "Now we want to determine how far (in TV distance) is our corrected estimated statistics vector\n",
    "$\\Lambda^{-1}\\mathbf{p}_{\\mathbf{exp}}^{\\text{est}}$ from ideal statistics $\\mathbf{p_{ideal}}$.\n",
    "This distance can be upper bounded by\n",
    "\n",
    "$$ D_{TV}\\left(\\Lambda^{-1} \\mathbf{p}_{\\mathbf{exp}}^{\\text{est}}, \\mathbf{p_{ideal}}\\right) \\leq\n",
    "\\underbrace{||\\Lambda^{-1}||_{1 \\to 1} D_{op}(\\mathbf{M}, \\Lambda \\mathbf{P})}_{\\text{coherent noise}} +\n",
    "\\underbrace{||\\Lambda^{-1}||_{1 \\to 1} \\epsilon}_{\\text{statistical noise}} =: \\delta. $$\n",
    "\n",
    "This sum consists of two parts. \n",
    "First quantifies propagation of coherent errors under our correction and is the same as in previous subsection.\n",
    "The second term quantifies propagation of statistical noise. For more details see Ref. [0]."
   ]
  },
  {
   "cell_type": "markdown",
   "metadata": {},
   "source": [
    "### Quasiprobability vectors\n",
    "In the discussion above we have ignored a very important feature of correction matrix $\\Lambda^{-1}$. Namely, since it is an inverse of stochastic matrix, its columns are in fact quasiprobability vectors - it means that they still sum up to 1, but can be negative. Matrices which such columns in general do not preserve probability vectors - hence left-multiplication of estimated frequencies by $\\Lambda^{-1}$ may sometimes yield a quasiprobability vector! \n",
    "\n",
    "Possible way of dealing with this is to simply find a closest (in some norm) probability vector. In other words, if $\\Lambda^{-1} \\mathbf{p}_{\\mathbf{exp}}^{\\text{est}}$  turns out to be quasiprobability vector, we solve\n",
    "$$\n",
    "\\min_{\\forall_i p_i\\geq 0,\\ \\sum_i p_i =1} ||\\Lambda^{-1} \\mathbf{p}_{\\mathbf{exp}}^{\\text{est}} - \\mathbf{p}||_2 \\ ,\n",
    "$$\n",
    "where we minimize Euclidean distance, not TV distance, because it is easy to solve. \n",
    "\n",
    "Let us denote by $\\mathbf{p_{final}}$ the solution of the above optimization problem. In such a case, we can upper bound possible distance from ideal distribution by\n",
    "$$\n",
    "D_{TV}\\left(\\mathbf{p_{final}}, \\mathbf{p_{ideal}}\\right) \\leq  \\underbrace{\\delta}_{\\text{coherent and statistical noise}} + \\underbrace{\\alpha}_{\\text{\"unphysicality noise\"}} \\ ,\n",
    "$$\n",
    "where by $\\alpha$ we have denoted\n",
    "$$\n",
    "\\alpha := D_{TV}\\left(\\mathbf{p_{final}}, \\Lambda^{-1} \\mathbf{p}_{\\mathbf{exp}}^{\\text{est}}\\right) \\ ,\n",
    "$$\n",
    "hence a distance between initially estimated quasiprobability vector and the solution of optimization problem.\n"
   ]
  },
  {
   "cell_type": "markdown",
   "metadata": {},
   "source": [
    "### When is mitigation successful?\n",
    "\n",
    "We have discussed two sources of errors that can worsen results of our mitigation procedure. \n",
    "Since in real-life experiments we do not have access to the ideal probability distribution, it is  impossible to know whether the mitigation was successful. To deal with this, we use the following heuristic rule to assess whether mitigation was successful \n",
    "\n",
    "$$ \\delta + \\alpha < D_{op}(\\mathbf{M}, \\mathbf{P}) + \\epsilon\\ ,$$\n",
    "\n",
    "where $\\delta$ coherent and statistical errors in mitigation,0 $\\alpha$ describes the distance described in previous subsection, and $\\epsilon$ is statistical error.\n",
    "In words - if a possible error introduced by mitigation is lower than the upper bound on error appearing in a detector without mitigation, we consider mitigation successful.\n",
    "\n",
    "Here we back it up by the following arguments. First, we know that at least for some set of quantum states the above is true - namely, the states in the neighborhood of the state that saturates upper bound on the RHS of the above inequality (i.e., states which are \"worst case scenarios\" for noisy detector, recall definition of operational distance from [QDT tutorial](https://github.com/fbm2718/QREM/blob/master/QDT_Tutorial.ipynb)). \n",
    "\n",
    "Secondly, In Appendix B of Ref. [0] are results of numerical simulations for single and two-qubit (uncorrelated) detectors which confirm that in the case when the above inequality is fulfilled, the majority of noisy probability vectors (generated by random quantum states and noisy detector) indeed come closer to the ideal distribution than if one does not apply mitigation. \n",
    "\n",
    "Finally, in experimental section of Ref. [0] there is empirical confirmation of the procedure to work for the number of benchmark procedures (note that if we know ideal probability distribution, we clearly can assess whether mitigation has been successful - we also do such tests in practical part of this tutorial).\n",
    "\n",
    "\n"
   ]
  },
  {
   "cell_type": "markdown",
   "metadata": {},
   "source": [
    "## Mitigating the errors using our module\n",
    "\n",
    "In this section we will describe how to use our mitigation module. We will begin with showing general approach as to\n",
    "how to prepare the mitigator object and then, on several examples, we will show how to use it\n",
    "(on single and multi-qubit circuit results)."
   ]
  },
  {
   "cell_type": "markdown",
   "metadata": {},
   "source": [
    "### Performing Quantum Detector Tomography\n",
    "Our error mitigation approach is based on the knowledge about the noise in the device's detector. Such knowledge can be\n",
    "obtained in procedure known as Quantum Detector Tomography (QDT). To perform QDT, one can follow the steps from our\n",
    "[QDT tutorial](https://github.com/fbm2718/QREM/blob/master/QDT_Tutorial.ipynb)."
   ]
  },
  {
   "cell_type": "code",
   "execution_count": 1,
   "metadata": {},
   "outputs": [],
   "source": [
    "import povmtools\n",
    "import ancillary_functions as anf\n",
    "import numpy as np\n",
    "\n",
    "from qiskit import IBMQ, Aer, execute\n",
    "from qiskit.providers.aer import noise\n",
    "\n",
    "from quantum_tomography_qiskit import detector_tomography_circuits\n",
    "from DetectorTomography import DetectorTomographyFitter, QDTCalibrationSetup\n",
    "from QDTErrorMitigator import QDTErrorMitigator\n",
    "\n",
    "# Choose qubit indices\n",
    "QDT_qubit_index = [3]\n",
    "\n",
    "# Select probe kets\n",
    "QDT_probe_kets = povmtools.pauli_probe_eigenkets\n",
    "\n",
    "# Generate circuits\n",
    "QDT_circuits = detector_tomography_circuits(QDT_qubit_index, QDT_probe_kets)\n",
    "\n",
    "# Get QDT circuits results\n",
    "backend = Aer.get_backend('qasm_simulator')  #  Get backed\n",
    "shots_number = 2000  # Define number of measurement repetitions\n",
    "QDT_job = execute(QDT_circuits, backend=backend, shots=shots_number)\n",
    "results = QDT_job.result()\n",
    "\n",
    "# Get ml_povm_estimator using DTF and results\n",
    "DTF = DetectorTomographyFitter()\n",
    "calibration_setup = QDTCalibrationSetup.from_qiskit_results([results], QDT_probe_kets)\n",
    "ml_povm_estimator = DTF.get_maximum_likelihood_povm_estimator(calibration_setup)"
   ]
  },
  {
   "cell_type": "markdown",
   "metadata": {},
   "source": [
    "## Preparing mitigation"
   ]
  },
  {
   "cell_type": "markdown",
   "metadata": {},
   "source": [
    "Now that we have the estimator of POVM, we can create QDTErrorMitigator object and prepare it."
   ]
  },
  {
   "cell_type": "code",
   "execution_count": 2,
   "metadata": {},
   "outputs": [],
   "source": [
    "# Creation and preparation of QDTErrorMitigator\n",
    "mitigator = QDTErrorMitigator()\n",
    "mitigator.prepare_mitigator(ml_povm_estimator)"
   ]
  },
  {
   "cell_type": "markdown",
   "metadata": {},
   "source": [
    "With prepared mitigator object we gain access to several useful functionalities. For example, we can:\n",
    "* Correct selected statistics (given as numpy ndarray) using apply_correction_to_statistics methd.\n",
    "* Correct results of qiskit job by using apply_correction_to_qiskit_job method.\n",
    "* Access error and correction matrices obtained from POVM given during preparation.\n",
    "\n",
    "In order to properly analyze the results of correction procedure, one have to be aware that in some cases raw\n",
    "application of $\\Lambda^{-1}$ to the results may yield quasi-probability (instead of probability) vectors. In such\n",
    "scenario our code finds closest probability vectors and returns them instead. Distances from raw quasi-probabilities to\n",
    "returned probabilities, can be accessed via distances_from_closest_probability_vector member of mitigator object."
   ]
  },
  {
   "cell_type": "markdown",
   "metadata": {},
   "source": [
    "### Error bounds calculation\n",
    "\n",
    "With access to POVM and the error and correction matrices, we are able to calculate bounds on several errors. In\n",
    "particular, using povmtools module, we can calculate:\n",
    "\n",
    "* noisy detector errors - using povmtools.operational_distance function (denoted as $D_{op}\\left(\\mathbf{M},\n",
    "\\mathbf{P}\\right)$ in theoretical background)\n",
    "* statistical error bound - using get_statistical_error_bound method (denoted as $\\epsilon$ in theoretical background),\n",
    "* coherent error bound - using gt_coherent_error_bound method (denoted as $D_{op}\\left(\\mathbf{M},\\Lambda\n",
    "\\mathbf{P}\\right)$ in theoretical background),\n",
    "* correction error bound - using get_correction_error_bound_from_data or get_correction_error_bound_from_parameters\n",
    " method (denoted as $\\delta+\\alpha$ in theoretical background).\n",
    "\n",
    "And later after applying mitigation to particular results we can also calculate\n",
    "* \"unphysicality error\" - using distances_from_closest_probability_vector method (denoted as $\\alpha$ in theoretical\n",
    " background)"
   ]
  },
  {
   "cell_type": "markdown",
   "metadata": {},
   "source": [
    "## Single qubit error mitigation\n",
    "\n",
    "In this section two examples of mitigation for single qubit will be shown. In order to show, that our mitigation scheme\n",
    "is efficient, we first need to create a noisy backend simulator. We start with required imports."
   ]
  },
  {
   "cell_type": "code",
   "execution_count": 3,
   "metadata": {},
   "outputs": [],
   "source": [
    "from qiskit import QuantumCircuit, ClassicalRegister, QuantumRegister\n",
    "from qiskit import execute\n",
    "from qiskit import IBMQ, Aer\n",
    "from qiskit.providers.aer.noise import NoiseModel\n",
    "import pandas as pd\n",
    "from pprint import pprint\n",
    "\n",
    "import povmtools\n",
    "from DetectorTomography import DetectorTomographyFitter, QDTCalibrationSetup\n",
    "from quantum_tomography_qiskit import detector_tomography_circuits\n",
    "from QDTErrorMitigator import QDTErrorMitigator"
   ]
  },
  {
   "cell_type": "markdown",
   "metadata": {},
   "source": [
    "We use standard qiskit methods to create noisy backend simulator. For this tutorial we will create simulator of IBM's\n",
    "Burlington device which is usually quite noisy. Here the assumed model is classical and uncorrelated, hence all errors\n",
    "in mitigation will be due to statistical noise."
   ]
  },
  {
   "cell_type": "code",
   "execution_count": 4,
   "metadata": {},
   "outputs": [],
   "source": [
    "#  What we want to have first is working noisy backend simulation. In order to do that, we use qiskit noise model\n",
    "# and download properties of selected backend.\n",
    "\n",
    "# Build noise model from backend properties.\n",
    "provider = IBMQ.load_account()\n",
    "backend = provider.get_backend('ibmq_burlington')\n",
    "noise_model = NoiseModel.from_backend(backend)\n",
    "\n",
    "# Get coupling map from backend, why not.\n",
    "coupling_map = backend.configuration().coupling_map\n",
    "\n",
    "# Get basis gates from noise model.\n",
    "basis_gates = noise_model.basis_gates\n",
    "\n",
    "# Finally, get the simulator backend.\n",
    "simulator_backend = Aer.get_backend('qasm_simulator')"
   ]
  },
  {
   "cell_type": "markdown",
   "metadata": {},
   "source": [
    "With backend created, what we need to do next is to reconstruct the POVM that corresponds to detector. To do so,\n",
    "following our QDT tutorial, we use DetectorTomographyFitter object from our module. First, we need to create calibration\n",
    "circuits and implement them."
   ]
  },
  {
   "cell_type": "code",
   "execution_count": 5,
   "metadata": {},
   "outputs": [
    {
     "name": "stdout",
     "output_type": "stream",
     "text": [
      "[0.929 0.071]\n",
      "[0.038 0.962]\n",
      "[0.493 0.507]\n",
      "[0.484 0.516]\n",
      "[0.482 0.518]\n",
      "[0.484 0.516]\n"
     ]
    }
   ],
   "source": [
    "# What I want to do now, is prepare POVM for simulated backend. According to our other notebook, I prepare\n",
    "# circuits first.\n",
    "\n",
    "qdt_qubit_index = [0]\n",
    "qdt_probe_kets = povmtools.pauli_probe_eigenkets\n",
    "qdt_calibration_circuits = detector_tomography_circuits(qdt_qubit_index, qdt_probe_kets)\n",
    "\n",
    "# I then execute them on backend prepared earlier.\n",
    "shots_number = 8192\n",
    "\n",
    "# Perform a noisy simulation\n",
    "result = execute(qdt_calibration_circuits, simulator_backend, coupling_map=coupling_map, basis_gates=basis_gates,\n",
    "                 noise_model=noise_model, shots=shots_number)\\\n",
    "                 .result()\n",
    "\n",
    "# Print counts.\n",
    "for i in range(len(result.results)):\n",
    "    counts_now = result.get_counts(i)\n",
    "    frequencies_now = povmtools.counts_dict_to_frequencies_vector(counts_now)\n",
    "    print(np.round(frequencies_now,3))"
   ]
  },
  {
   "cell_type": "markdown",
   "metadata": {},
   "source": [
    "We note that it is highly preferable to use as high number of shots as possible to minimize statistical errors.  \n",
    "\n",
    "Maximum likelihood POVM calculation is as easy as calling single method now."
   ]
  },
  {
   "cell_type": "code",
   "execution_count": 6,
   "metadata": {},
   "outputs": [
    {
     "name": "stdout",
     "output_type": "stream",
     "text": [
      "                    0                   1\n",
      "0  0.930177+0.000000j  0.004514+0.000916j\n",
      "1  0.004514-0.000916j  0.038011+0.000000j\n",
      "                    0                   1\n",
      "0  0.069823-0.000000j -0.004514-0.000916j\n",
      "1 -0.004514+0.000916j  0.961989+0.000000j\n"
     ]
    }
   ],
   "source": [
    "# With circuits results we can now use our Detector Tomography Fitter to obtain maximum likelihood POVM estimator.\n",
    "dtf = DetectorTomographyFitter()\n",
    "calibration_setup = QDTCalibrationSetup.from_qiskit_results([result], qdt_probe_kets)\n",
    "ml_povm_estimator = dtf.get_maximum_likelihood_povm_estimator(calibration_setup)\n",
    "\n",
    "for m_i in ml_povm_estimator:\n",
    "    nice_looking_m_i = pd.DataFrame(m_i)\n",
    "    print(nice_looking_m_i)"
   ]
  },
  {
   "cell_type": "markdown",
   "metadata": {},
   "source": [
    "With POVM calculated, we can now create and prepare mitigator object."
   ]
  },
  {
   "cell_type": "code",
   "execution_count": 7,
   "metadata": {},
   "outputs": [],
   "source": [
    "# We can use obtained POVM to correct to prepare mitigation object.\n",
    "mitigator = QDTErrorMitigator()\n",
    "mitigator.prepare_mitigator(ml_povm_estimator)"
   ]
  },
  {
   "cell_type": "markdown",
   "metadata": {},
   "source": [
    "After those preparations, we can now check how our error mitigation approach works. Let's consider two simple scenarios."
   ]
  },
  {
   "cell_type": "markdown",
   "metadata": {},
   "source": [
    "### X gate circuit\n",
    "\n",
    "In this case, we will first create a one qubit circuit (initially in |0><0| state) and we will apply X (not) operation\n",
    "to it. In ideal scenario we would expect only counts in state '1'. We begin with circuit creation."
   ]
  },
  {
   "cell_type": "code",
   "execution_count": 8,
   "metadata": {},
   "outputs": [],
   "source": [
    "# In order to check how efficient our mitigator is, we need to obtain some noisy data first.\n",
    "# We will start with preparing simple experiment.\n",
    "\n",
    "qr = QuantumRegister(1, 'qreg')\n",
    "cr = ClassicalRegister(1, 'creg')\n",
    "qc = QuantumCircuit(qr, cr)\n",
    "\n",
    "qc.x(qr[0])\n",
    "qc.measure(qr, cr);"
   ]
  },
  {
   "cell_type": "markdown",
   "metadata": {},
   "source": [
    "Now we execute this circuit on our simulator and check the results."
   ]
  },
  {
   "cell_type": "code",
   "execution_count": 9,
   "metadata": {},
   "outputs": [
    {
     "name": "stdout",
     "output_type": "stream",
     "text": [
      "[0.037 0.963]\n"
     ]
    }
   ],
   "source": [
    "result = execute(qc, simulator_backend, coupling_map=coupling_map, basis_gates=basis_gates,\n",
    "                 noise_model=noise_model, shots=shots_number)\\\n",
    "                 .result()\n",
    "\n",
    "for i in range(len(result.results)):\n",
    "    counts_now = result.get_counts(i)\n",
    "    frequencies_now = povmtools.counts_dict_to_frequencies_vector(counts_now)\n",
    "    print(np.round(frequencies_now,3))"
   ]
  },
  {
   "cell_type": "markdown",
   "metadata": {},
   "source": [
    "As we can see, noisy simulator returned some errors ('0' counts), as expected. Let's try to correct these results using\n",
    "our mitigator."
   ]
  },
  {
   "cell_type": "code",
   "execution_count": 10,
   "metadata": {},
   "outputs": [
    {
     "name": "stdout",
     "output_type": "stream",
     "text": [
      "[[0.]\n",
      " [1.]]\n"
     ]
    }
   ],
   "source": [
    "# Now let's correct them.\n",
    "corrected_results = mitigator.apply_correction_to_qiskit_job(result)\n",
    "print(np.round(corrected_results[0],3))"
   ]
  },
  {
   "cell_type": "markdown",
   "metadata": {},
   "source": [
    "### H gate circuit\n",
    "\n",
    "Now we will use H (Hadamard) gate. Everything else will be exactly like in the first scenario. We begin with creating\n",
    "and executing a circuit and then printing raw results of the job. We expect to obtain equal number of '0' and '1'\n",
    "counts."
   ]
  },
  {
   "cell_type": "code",
   "execution_count": 11,
   "metadata": {},
   "outputs": [
    {
     "name": "stdout",
     "output_type": "stream",
     "text": [
      "[0.478 0.522]\n"
     ]
    }
   ],
   "source": [
    "# Let's try another example.\n",
    "qr2 = QuantumRegister(1, 'qreg2')\n",
    "cr2 = ClassicalRegister(1, 'creg2')\n",
    "qc2 = QuantumCircuit(qr2, cr2)\n",
    "\n",
    "qc2.h(qr2[0])\n",
    "qc2.measure(qr2, cr2)\n",
    "\n",
    "result = execute(qc2, simulator_backend, coupling_map=coupling_map, basis_gates=basis_gates,\n",
    "                 noise_model=noise_model, shots=shots_number)\\\n",
    "                 .result()\n",
    "\n",
    "for i in range(len(result.results)):\n",
    "    counts_now = result.get_counts(i)\n",
    "    frequencies_now = povmtools.counts_dict_to_frequencies_vector(counts_now)\n",
    "    print(np.round(frequencies_now,3))"
   ]
  },
  {
   "cell_type": "markdown",
   "metadata": {},
   "source": [
    "We see that again have distribution which is not perfect. Let's apply error mitigation."
   ]
  },
  {
   "cell_type": "code",
   "execution_count": 12,
   "metadata": {},
   "outputs": [
    {
     "name": "stdout",
     "output_type": "stream",
     "text": [
      "[[0.493]\n",
      " [0.507]]\n"
     ]
    }
   ],
   "source": [
    "# Now let's correct them.\n",
    "corrected_results = mitigator.apply_correction_to_qiskit_job(result)\n",
    "print(np.round(corrected_results[0],3))"
   ]
  },
  {
   "cell_type": "markdown",
   "metadata": {},
   "source": [
    "Once again, the results are better!"
   ]
  },
  {
   "cell_type": "markdown",
   "metadata": {},
   "source": [
    "### Errors in mitigation\n",
    "In the above benchmark circuits it was straightforward to assess the effectiveness of mitigation - since we knew the\n",
    "theoretical distributions, we could simply compare the corrected statistics to this distribution.\n",
    "\n",
    "In realistic scenarios, however, if one does not know what is the underlying ideal distribution, it is impossible to\n",
    "assess the success of mitigation. However, following procedure described in [0], we can heuristically asses if it is\n",
    "likely that mitigation succeeded (see theoretical background of this tutorial).\n",
    "\n",
    "We start with calculating statistical error bound. We start with setting mistake probability (in theoretical background\n",
    "denoted as $\\text{Pr}_{\\text{wrong}}$)."
   ]
  },
  {
   "cell_type": "code",
   "execution_count": 13,
   "metadata": {},
   "outputs": [],
   "source": [
    "statistical_error_mistake_probability = 0.01"
   ]
  },
  {
   "cell_type": "markdown",
   "metadata": {},
   "source": [
    "Now we need counts formatted as list or array."
   ]
  },
  {
   "cell_type": "code",
   "execution_count": 14,
   "metadata": {},
   "outputs": [],
   "source": [
    "# We need counts as array. The outcomes are 0 or 1, so we can create them in straightforward way.\n",
    "counts_dict = result.get_counts()\n",
    "counts_list = [counts_dict['0'], counts_dict['1']]"
   ]
  },
  {
   "cell_type": "markdown",
   "metadata": {},
   "source": [
    "Now we can use povmtools method to calculate statistical error bound."
   ]
  },
  {
   "cell_type": "code",
   "execution_count": 15,
   "metadata": {},
   "outputs": [
    {
     "name": "stdout",
     "output_type": "stream",
     "text": [
      "statistical errors: 0.017982870414073163\n"
     ]
    }
   ],
   "source": [
    "# We calculate statistical error bound. Let's call it epsilon.\n",
    "epsilon = povmtools.get_statistical_error_bound(counts_list, statistical_error_mistake_probability)\n",
    "print('statistical errors:',epsilon)"
   ]
  },
  {
   "cell_type": "markdown",
   "metadata": {},
   "source": [
    "We now need bound for possible errors in our mitigation. Luckily, we have all the arguments necessary for its\n",
    "calculation using prepared povmtools method."
   ]
  },
  {
   "cell_type": "code",
   "execution_count": 16,
   "metadata": {},
   "outputs": [
    {
     "name": "stdout",
     "output_type": "stream",
     "text": [
      "unphysicality error: 0\n",
      "total mitigation error: 0.026124735966835448\n"
     ]
    }
   ],
   "source": [
    "#get correction matrix\n",
    "correction_matrix = mitigator.correction_matrix\n",
    "\n",
    "\n",
    "#do not forget about possible term from unphysicality. \n",
    "alpha = mitigator.distances_from_closest_probability_vector[0]\n",
    "print('unphysicality error:',alpha)\n",
    "\n",
    "\n",
    "\n",
    "# We now need the correction error bound. \n",
    "mitigation_error = povmtools.get_correction_error_bound_from_data_and_statistical_error(ml_povm_estimator,\n",
    "                                                                             correction_matrix, \n",
    "                                                                             epsilon,\n",
    "                                                                             alpha)\n",
    "\n",
    "\n",
    "print('total mitigation error:',mitigation_error)"
   ]
  },
  {
   "cell_type": "markdown",
   "metadata": {},
   "source": [
    "Note that since we took a classical noise model from IBM's backend properties, the above error arises solely due to\n",
    "statistical fluctuations and is underestimated since it does not account for coherent errors.\n",
    "\n",
    "Last thing required for determining mitigation success is operational distance between perfect measurement and our\n",
    "ml_povm_estimator. We calculate it using povmtools module function."
   ]
  },
  {
   "cell_type": "code",
   "execution_count": 17,
   "metadata": {},
   "outputs": [
    {
     "name": "stdout",
     "output_type": "stream",
     "text": [
      "errors without mitigation: 0.07001942448631655\n"
     ]
    }
   ],
   "source": [
    "# We also need operational distance, between perfect detector and our POVM. We calculate it.\n",
    "perfect_measurement = povmtools.computational_projectors(d=2) # For one qubit!\n",
    "operational_distance = povmtools.operational_distance_POVMs(ml_povm_estimator, perfect_measurement)\n",
    "print('errors without mitigation:',operational_distance)"
   ]
  },
  {
   "cell_type": "markdown",
   "metadata": {},
   "source": [
    "And finally, we can check if our criterion for assesing success of the mitigation works in this case."
   ]
  },
  {
   "cell_type": "code",
   "execution_count": 18,
   "metadata": {},
   "outputs": [
    {
     "name": "stdout",
     "output_type": "stream",
     "text": [
      "Mitigation successful: True\n"
     ]
    }
   ],
   "source": [
    "# Now we can check if mitigation can be considered successful\n",
    "print(f'Mitigation successful: {mitigation_error < operational_distance + epsilon}')"
   ]
  },
  {
   "cell_type": "markdown",
   "metadata": {},
   "source": [
    "## Multi Qubit error mitigation scenario\n",
    "\n",
    "Our method can easily be expanded for multiple qubits. It's done analogically to the single qubit experiments. We start\n",
    "with preparing noisy backend. We can use the same code as in one qubit scenario."
   ]
  },
  {
   "cell_type": "code",
   "execution_count": 20,
   "metadata": {},
   "outputs": [
    {
     "name": "stderr",
     "output_type": "stream",
     "text": [
      "Credentials are already in use. The existing account in the session will be replaced.\n"
     ]
    }
   ],
   "source": [
    "from qiskit import QuantumCircuit, ClassicalRegister, QuantumRegister\n",
    "from qiskit import execute\n",
    "from qiskit import IBMQ, Aer\n",
    "from qiskit.providers.aer.noise import NoiseModel\n",
    "\n",
    "import povmtools\n",
    "from DetectorTomography import DetectorTomographyFitter, QDTCalibrationSetup\n",
    "from quantum_tomography_qiskit import detector_tomography_circuits\n",
    "from QDTErrorMitigator import QDTErrorMitigator\n",
    "\n",
    "#  What I want to have first is working noisy backend simulation. In order to do that, I will use qiskit noise model\n",
    "# and download properties of selected backend.\n",
    "\n",
    "# Build noise model from backend properties.\n",
    "provider = IBMQ.load_account()\n",
    "backend = provider.get_backend('ibmq_burlington')\n",
    "noise_model = NoiseModel.from_backend(backend)\n",
    "\n",
    "# Get coupling map from backend, why not.\n",
    "coupling_map = backend.configuration().coupling_map\n",
    "\n",
    "# Get basis gates from noise model.\n",
    "basis_gates = noise_model.basis_gates\n",
    "\n",
    "# Finally, get the simulator backend.\n",
    "simulator_backend = Aer.get_backend('qasm_simulator')"
   ]
  },
  {
   "cell_type": "markdown",
   "metadata": {},
   "source": [
    "Now the POVM. This time we need higher dimensional one, as we are considering multi qubit scenario. The code, however,\n",
    "doesn't change much. The only thing we need to do is to modify qdt_qubit_indices list."
   ]
  },
  {
   "cell_type": "code",
   "execution_count": 21,
   "metadata": {},
   "outputs": [
    {
     "name": "stdout",
     "output_type": "stream",
     "text": [
      "[0.863 0.06  0.073 0.005]\n",
      "[0.107 0.007 0.829 0.058]\n",
      "[0.477 0.036 0.453 0.034]\n",
      "[0.481 0.042 0.444 0.032]\n",
      "[0.479 0.039 0.45  0.032]\n",
      "[0.494 0.036 0.44  0.031]\n",
      "[0.032 0.892 0.003 0.073]\n",
      "[0.005 0.109 0.032 0.854]\n",
      "[0.021 0.493 0.019 0.467]\n",
      "[0.021 0.488 0.017 0.474]\n",
      "[0.02  0.496 0.016 0.469]\n",
      "[0.02  0.494 0.019 0.467]\n",
      "[0.447 0.472 0.039 0.042]\n",
      "[0.055 0.059 0.436 0.45 ]\n",
      "[0.252 0.269 0.231 0.248]\n",
      "[0.243 0.267 0.239 0.251]\n",
      "[0.255 0.269 0.229 0.246]\n",
      "[0.254 0.267 0.23  0.249]\n",
      "[0.434 0.489 0.035 0.042]\n",
      "[0.051 0.06  0.434 0.455]\n",
      "[0.249 0.254 0.244 0.252]\n",
      "[0.25  0.28  0.224 0.246]\n",
      "[0.246 0.267 0.233 0.254]\n",
      "[0.251 0.269 0.23  0.249]\n",
      "[0.439 0.475 0.041 0.045]\n",
      "[0.058 0.054 0.438 0.45 ]\n",
      "[0.238 0.271 0.239 0.251]\n",
      "[0.259 0.255 0.236 0.25 ]\n",
      "[0.25  0.263 0.24  0.247]\n",
      "[0.241 0.265 0.24  0.254]\n",
      "[0.452 0.467 0.037 0.044]\n",
      "[0.056 0.057 0.435 0.451]\n",
      "[0.252 0.262 0.237 0.25 ]\n",
      "[0.241 0.261 0.24  0.258]\n",
      "[0.252 0.262 0.231 0.255]\n",
      "[0.256 0.262 0.234 0.248]\n"
     ]
    }
   ],
   "source": [
    "# What we want to do now, is prepare POVM for simulated backend. According to our other notebook, we prepare\n",
    "# circuits first.\n",
    "\n",
    "qdt_qubit_indices = [0, 1]\n",
    "qdt_probe_kets = povmtools.pauli_probe_eigenkets\n",
    "qdt_calibration_circuits = detector_tomography_circuits(qdt_qubit_indices, qdt_probe_kets)\n",
    "\n",
    "# We then execute them on backend prepared earlier.\n",
    "shots_number = 8192\n",
    "\n",
    "# Perform a noisy simulation\n",
    "result = execute(qdt_calibration_circuits, simulator_backend, coupling_map=coupling_map, basis_gates=basis_gates,\n",
    "                 noise_model=noise_model, shots=shots_number) \\\n",
    "    .result()\n",
    "\n",
    "# Print counts.\n",
    "for i in range(len(result.results)):\n",
    "    counts_now = result.get_counts(i)\n",
    "    frequencies_now = povmtools.counts_dict_to_frequencies_vector(counts_now)\n",
    "    print(np.round(frequencies_now,3))"
   ]
  },
  {
   "cell_type": "markdown",
   "metadata": {},
   "source": [
    "Now, we can calculate the POVM estimator."
   ]
  },
  {
   "cell_type": "code",
   "execution_count": 22,
   "metadata": {},
   "outputs": [
    {
     "name": "stdout",
     "output_type": "stream",
     "text": [
      "                    0                   1                   2  \\\n",
      "0  0.856356+0.000000j -0.001002+0.003356j  0.001746+0.004996j   \n",
      "1 -0.001002-0.003356j  0.104866-0.000000j  0.006085+0.009685j   \n",
      "2  0.001746-0.004996j  0.006085-0.009685j  0.034307-0.000000j   \n",
      "3 -0.001130-0.006081j  0.001759+0.000913j  0.000024+0.000258j   \n",
      "\n",
      "                    3  \n",
      "0 -0.001130+0.006081j  \n",
      "1  0.001759-0.000913j  \n",
      "2  0.000024-0.000258j  \n",
      "3  0.005279-0.000000j   \n",
      "\n",
      "                    0                   1                   2  \\\n",
      "0  0.072798-0.000000j  0.002902-0.001855j  0.002011-0.001918j   \n",
      "1  0.002902+0.001855j  0.829329-0.000000j -0.006398-0.002564j   \n",
      "2  0.002011+0.001918j -0.006398+0.002564j  0.002738+0.000000j   \n",
      "3 -0.007541+0.000904j -0.000923+0.001582j  0.001012-0.001604j   \n",
      "\n",
      "                    3  \n",
      "0 -0.007541-0.000904j  \n",
      "1 -0.000923-0.001582j  \n",
      "2  0.001012+0.001604j  \n",
      "3  0.032571-0.000000j   \n",
      "\n",
      "                    0                   1                   2  \\\n",
      "0  0.065819+0.000000j -0.002702-0.001399j -0.003544-0.003164j   \n",
      "1 -0.002702+0.001399j  0.007394+0.000000j  0.006381-0.003084j   \n",
      "2 -0.003544+0.003164j  0.006381+0.003084j  0.883270+0.000000j   \n",
      "3  0.007379+0.004658j  0.000448-0.001218j  0.001491+0.000064j   \n",
      "\n",
      "                    3  \n",
      "0  0.007379-0.004658j  \n",
      "1  0.000448+0.001218j  \n",
      "2  0.001491-0.000064j  \n",
      "3  0.107418-0.000000j   \n",
      "\n",
      "                    0                   1                   2  \\\n",
      "0  0.005026-0.000000j  0.000801-0.000102j -0.000213+0.000086j   \n",
      "1  0.000801+0.000102j  0.058410-0.000000j -0.006068-0.004036j   \n",
      "2 -0.000213-0.000086j -0.006068+0.004036j  0.079685-0.000000j   \n",
      "3  0.001291+0.000519j -0.001284-0.001277j -0.002527+0.001281j   \n",
      "\n",
      "                    3  \n",
      "0  0.001291-0.000519j  \n",
      "1 -0.001284+0.001277j  \n",
      "2 -0.002527-0.001281j  \n",
      "3  0.854732-0.000000j   \n",
      "\n"
     ]
    }
   ],
   "source": [
    "# With circuits results we can now use our Detector Tomography Fitter to obtain maximum likelihood POVM estimator.\n",
    "dtf = DetectorTomographyFitter()\n",
    "calibration_setup = QDTCalibrationSetup.from_qiskit_results([result], qdt_probe_kets)\n",
    "ml_povm_estimator = dtf.get_maximum_likelihood_povm_estimator(calibration_setup)\n",
    "\n",
    "for m_i in ml_povm_estimator:\n",
    "    nice_looking_m_i = pd.DataFrame(m_i)\n",
    "    print(nice_looking_m_i,'\\n')"
   ]
  },
  {
   "cell_type": "markdown",
   "metadata": {},
   "source": [
    "And with POVM estimator, we can prepare mitigator object."
   ]
  },
  {
   "cell_type": "code",
   "execution_count": 23,
   "metadata": {},
   "outputs": [],
   "source": [
    "# We can use obtained POVM to correct to prepare mitigation object.\n",
    "mitigator = QDTErrorMitigator()\n",
    "mitigator.prepare_mitigator(ml_povm_estimator)"
   ]
  },
  {
   "cell_type": "markdown",
   "metadata": {},
   "source": [
    "Again, let's check how the mitigation works on several circuits."
   ]
  },
  {
   "cell_type": "markdown",
   "metadata": {},
   "source": [
    "### Hadamards circuit\n",
    "\n",
    "We begin with circuit applying Hadamard gates on both qubits. Let's prepare such circuit."
   ]
  },
  {
   "cell_type": "code",
   "execution_count": 24,
   "metadata": {},
   "outputs": [],
   "source": [
    "# In order to check how efficient our mitigator is, we need to obtain some noisy data first.\n",
    "# We will start with preparing simple experiment.\n",
    "\n",
    "qr = QuantumRegister(2, 'qreg')\n",
    "cr = ClassicalRegister(2, 'creg')\n",
    "qc = QuantumCircuit(qr, cr)\n",
    "\n",
    "qc.h(qr[0])\n",
    "qc.h(qr[1])\n",
    "qc.measure(qr, cr);"
   ]
  },
  {
   "cell_type": "markdown",
   "metadata": {},
   "source": [
    "We then execute this circuit and print the results."
   ]
  },
  {
   "cell_type": "code",
   "execution_count": 25,
   "metadata": {},
   "outputs": [
    {
     "name": "stdout",
     "output_type": "stream",
     "text": [
      "[0.2393798828125, 0.2708740234375, 0.2384033203125, 0.2513427734375]\n"
     ]
    }
   ],
   "source": [
    "result = execute(qc, simulator_backend, coupling_map=coupling_map, basis_gates=basis_gates,\n",
    "                 noise_model=noise_model, shots=shots_number) \\\n",
    "    .result()\n",
    "\n",
    "for i in range(len(result.results)):\n",
    "    counts_now = result.get_counts(i)\n",
    "    frequencies_now = povmtools.counts_dict_to_frequencies_vector(counts_now)\n",
    "    print(frequencies_now)"
   ]
  },
  {
   "cell_type": "markdown",
   "metadata": {},
   "source": [
    "Now we can correct them."
   ]
  },
  {
   "cell_type": "code",
   "execution_count": 26,
   "metadata": {},
   "outputs": [
    {
     "name": "stdout",
     "output_type": "stream",
     "text": [
      "[[0.23299808]\n",
      " [0.21942196]\n",
      " [0.29554276]\n",
      " [0.25203721]]\n"
     ]
    }
   ],
   "source": [
    "# Now let's correct them.\n",
    "corrected_results = mitigator.apply_correction_to_qiskit_job(result)\n",
    "print(corrected_results[0])"
   ]
  },
  {
   "cell_type": "markdown",
   "metadata": {},
   "source": [
    "One can clearly see that the results are better. "
   ]
  },
  {
   "cell_type": "markdown",
   "metadata": {},
   "source": [
    "Now let's it try with some multi-qubit gates."
   ]
  },
  {
   "cell_type": "markdown",
   "metadata": {},
   "source": [
    "### CNOT Circuit\n",
    "\n",
    "This time we will use a CNOT gate. First we will prepare a qubit in state |1> and then use it as a control to negate the\n",
    "other qubit. We expect all counts to be in state '11'. The circuit can be codded as below."
   ]
  },
  {
   "cell_type": "code",
   "execution_count": 27,
   "metadata": {},
   "outputs": [
    {
     "data": {
      "text/plain": [
       "<qiskit.circuit.instructionset.InstructionSet at 0x2247711f910>"
      ]
     },
     "execution_count": 27,
     "metadata": {},
     "output_type": "execute_result"
    }
   ],
   "source": [
    "# Let's try another example.\n",
    "qr2 = QuantumRegister(2, 'qreg2')\n",
    "cr2 = ClassicalRegister(2, 'creg2')\n",
    "qc2 = QuantumCircuit(qr2, cr2)\n",
    "\n",
    "qc2.x(qr2[0])\n",
    "qc2.cx(qr2[0], qr2[1])\n",
    "qc2.measure(qr2, cr2)"
   ]
  },
  {
   "cell_type": "markdown",
   "metadata": {},
   "source": [
    "Executing this circuits yields following results:"
   ]
  },
  {
   "cell_type": "code",
   "execution_count": 28,
   "metadata": {},
   "outputs": [
    {
     "name": "stdout",
     "output_type": "stream",
     "text": [
      "[0.00390625, 0.11474609375, 0.033203125, 0.84814453125]\n"
     ]
    }
   ],
   "source": [
    "result = execute(qc2, simulator_backend, coupling_map=coupling_map, basis_gates=basis_gates,\n",
    "                 noise_model=noise_model, shots=shots_number) \\\n",
    "    .result()\n",
    "\n",
    "for i in range(len(result.results)):\n",
    "    counts_now = result.get_counts(i)\n",
    "    frequencies_now = povmtools.counts_dict_to_frequencies_vector(counts_now)\n",
    "    print(frequencies_now)"
   ]
  },
  {
   "cell_type": "markdown",
   "metadata": {},
   "source": [
    "As expected, we can see some erroneous results. Let's try to mitigate it."
   ]
  },
  {
   "cell_type": "code",
   "execution_count": 29,
   "metadata": {},
   "outputs": [
    {
     "name": "stdout",
     "output_type": "stream",
     "text": [
      "[[0.   ]\n",
      " [0.   ]\n",
      " [0.054]\n",
      " [0.946]]\n"
     ]
    }
   ],
   "source": [
    "# Now let's correct them.\n",
    "corrected_results = mitigator.apply_correction_to_qiskit_job(result)\n",
    "print(np.round(corrected_results[0],3))"
   ]
  },
  {
   "cell_type": "markdown",
   "metadata": {},
   "source": [
    "Easily enough, the results are clearly better. Let's now combine Hadamard and CNOT gate."
   ]
  },
  {
   "cell_type": "markdown",
   "metadata": {},
   "source": [
    "### Hadamard + CNOT circuit\n",
    "\n",
    "In this scenario, we will first prepare first qubit in superposition of states |0> and |1>. We will then, again, use it\n",
    "as a control qubit to negate the second one. We will expect equal number of counts in '00' and '11' states. The circuit\n",
    "can be prepared like below."
   ]
  },
  {
   "cell_type": "code",
   "execution_count": 30,
   "metadata": {},
   "outputs": [
    {
     "data": {
      "text/plain": [
       "<qiskit.circuit.instructionset.InstructionSet at 0x22477146df0>"
      ]
     },
     "execution_count": 30,
     "metadata": {},
     "output_type": "execute_result"
    }
   ],
   "source": [
    "# Final example!\n",
    "qr3 = QuantumRegister(2, 'qreg2')\n",
    "cr3 = ClassicalRegister(2, 'creg2')\n",
    "qc3 = QuantumCircuit(qr3, cr3)\n",
    "\n",
    "qc3.h(qr3[0])\n",
    "qc3.cx(qr3[0], qr2[1])\n",
    "qc3.measure(qr3, cr3)"
   ]
  },
  {
   "cell_type": "markdown",
   "metadata": {},
   "source": [
    "We now execute it and print the results."
   ]
  },
  {
   "cell_type": "code",
   "execution_count": 31,
   "metadata": {},
   "outputs": [
    {
     "name": "stdout",
     "output_type": "stream",
     "text": [
      "[0.4129638671875, 0.0911865234375, 0.053955078125, 0.44189453125]\n"
     ]
    }
   ],
   "source": [
    "result = execute(qc3, simulator_backend, coupling_map=coupling_map, basis_gates=basis_gates,\n",
    "                 noise_model=noise_model, shots=shots_number) \\\n",
    "    .result()\n",
    "\n",
    "for i in range(len(result.results)):\n",
    "    counts_now = result.get_counts(i)\n",
    "    frequencies_now = povmtools.counts_dict_to_frequencies_vector(counts_now)\n",
    "    print(frequencies_now)"
   ]
  },
  {
   "cell_type": "markdown",
   "metadata": {},
   "source": [
    "There's some room for improvement. Let's apply the mitigation."
   ]
  },
  {
   "cell_type": "code",
   "execution_count": 32,
   "metadata": {},
   "outputs": [
    {
     "name": "stdout",
     "output_type": "stream",
     "text": [
      "[[0.462]\n",
      " [0.   ]\n",
      " [0.036]\n",
      " [0.502]]\n"
     ]
    }
   ],
   "source": [
    "# Now let's correct them.\n",
    "corrected_results = mitigator.apply_correction_to_qiskit_job(result)\n",
    "print(np.round(corrected_results[0],3))"
   ]
  },
  {
   "cell_type": "markdown",
   "metadata": {},
   "source": [
    "Once again, the results are clearly better.\n",
    "\n",
    "This time it was possible, to determine if the mitigation worked without using mitigation success check. If, however,\n",
    "one would like to perform it, then the only difference between multi and single qubit scenario code, would be\n",
    "perfect_measurement definition (adequate to the dimension of the problem). Mitigation success check won't be, therefore,\n",
    "shown for multi qubit case.\n",
    "\n",
    "As a final remark one should be aware, that the results of the mitigation and its success in particular, strongly\n",
    "depends on quantum detector tomography method used during POVM calculation. In our work maximum likelihood method was\n",
    "used, but there are several different methods, that could possibly yield different results. For more information see\n",
    "[0]. We can, as in single-qubit example, check if our criterion for assessing mitigation success works in this case as\n",
    "well."
   ]
  },
  {
   "cell_type": "code",
   "execution_count": 33,
   "metadata": {},
   "outputs": [
    {
     "name": "stdout",
     "output_type": "stream",
     "text": [
      "statistical errors: 0.021027423958378727\n",
      "unphysicality error: 0.03724435602181944\n",
      "total mitigation error: 0.09104366876781492\n"
     ]
    }
   ],
   "source": [
    "# We need counts as array. The outcomes are 0 or 1, so we can create them in straightforward way.\n",
    "counts_dict = result.get_counts()\n",
    "counts_list = np.array(povmtools.counts_dict_to_frequencies_vector(counts_dict))*shots_number\n",
    "\n",
    "\n",
    "# We calculate statistical error bound. \n",
    "epsilon = povmtools.get_statistical_error_bound(counts_list, statistical_error_mistake_probability)\n",
    "print('statistical errors:',epsilon)\n",
    "\n",
    "\n",
    "\n",
    "#get correction matrix\n",
    "correction_matrix = mitigator.correction_matrix\n",
    "\n",
    "\n",
    "#do not forget about possible term from unphysicality. \n",
    "alpha = mitigator.distances_from_closest_probability_vector[0]\n",
    "print('unphysicality error:',alpha)\n",
    "\n",
    "\n",
    "\n",
    "# We now need the correction error bound.\n",
    "mitigation_error = povmtools.get_correction_error_bound_from_data_and_statistical_error(ml_povm_estimator,\n",
    "                                                                             correction_matrix, \n",
    "                                                                             epsilon,\n",
    "                                                                             alpha)\n",
    "\n",
    "\n",
    "print('total mitigation error:',mitigation_error)"
   ]
  },
  {
   "cell_type": "markdown",
   "metadata": {},
   "source": [
    "Recall once again that since we took a classical noise model from IBM's backend properties, the above error arises\n",
    "solely due to statistical fluctuations and is underestimated since it does not account for coherent errors. Furthermore,\n",
    "errors are assumed to be uncorrelated, which underestimates their magnitude.\n",
    "\n",
    "Note that mitigation error is higher than in case of single-qubit experiments. This is due to the fact that sampling\n",
    "complexity is higher for 4-dimensional probability distributions. However, we expect that also errors without mitigation\n",
    "increase:"
   ]
  },
  {
   "cell_type": "code",
   "execution_count": 34,
   "metadata": {},
   "outputs": [
    {
     "name": "stdout",
     "output_type": "stream",
     "text": [
      "errors without mitigation: 0.1710090286086912\n",
      "Mitigation successful: True\n"
     ]
    }
   ],
   "source": [
    "# We need operational distance between perfect detector and our POVM. We calculate it.\n",
    "perfect_measurement = povmtools.computational_projectors(d=4) # For two qubits\n",
    "operational_distance = povmtools.operational_distance_POVMs(ml_povm_estimator, perfect_measurement)\n",
    "print('errors without mitigation:',operational_distance)\n",
    "\n",
    "# Now we can check if mitigation can be considered successful\n",
    "print(f'Mitigation successful: {mitigation_error < operational_distance + epsilon}')"
   ]
  },
  {
   "cell_type": "markdown",
   "metadata": {},
   "source": [
    "# References\n",
    "\n",
    "[0] Filip B. Maciejewski, Zoltán Zimborás, Michał Oszmaniec, *Mitigation of readout noise in near-term quantum devices\n",
    "by classical post-processing based on detector tomography*, arxiv preprint, https://arxiv.org/abs/1907.08518 (2019)\n",
    "[1] Z. Hradil, J. Řeháček, J. Fiurášek, and M. Ježek, “3 maximum-likelihood methods in quantum mechanics,” in Quantum\n",
    "State Estimation, edited by M. Paris and J. Řeháček (Springer Berlin Heidelberg, Berlin, Heidelberg, 2004) pp. 59–112.\n"
   ]
  }
 ],
 "metadata": {
  "kernelspec": {
   "display_name": "Python 3",
   "language": "python",
   "name": "python3"
  },
  "language_info": {
   "codemirror_mode": {
    "name": "ipython",
    "version": 3
   },
   "file_extension": ".py",
   "mimetype": "text/x-python",
   "name": "python",
   "nbconvert_exporter": "python",
   "pygments_lexer": "ipython3",
   "version": "3.8.1"
  }
 },
 "nbformat": 4,
 "nbformat_minor": 2
}
