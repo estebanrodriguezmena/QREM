{
 "cells": [
  {
   "cell_type": "markdown",
   "metadata": {},
   "source": [
    "# Error mitigation\n",
    "\n",
    "This notebook contains theoretical background and examples for using our Error Mitigation module with Qiskit."
   ]
  },
  {
   "cell_type": "markdown",
   "metadata": {},
   "source": [
    "## Theoretical background\n",
    "Here we describe main theoretical concepts related to mitigation procedure. For more detailed description, see Ref. [0].\n",
    "\n",
    "### Classical noise model\n",
    "Let us denote by $\\mathbf{M}$ a POVM describing noisy detector and $\\mathbf{P}$ denote ideal measurement. In classical noise model, we assume that the relation between the two is given by stochastic, invertible map $\\Lambda$:\n",
    "\n",
    "$$ \\mathbf{M} = \\Lambda \\mathbf{P}.$$\n",
    "\n",
    "Let us denote by $\\mathbf{p}_{exp}$ vector of probabilities obtained on a noisy detector $\\mathbf{M}$ measuring any quantum state, and by $\\mathbf{p_{ideal}}$ the analogous vector for ideal detector (for the same quantum state). From linearity of the Born's rule, it follows that two vectors are related by the same stochastic map as POVMs:\n",
    "\n",
    "$$ \\mathbf{p_{exp}} = \\Lambda \\mathbf{p_{ideal}}. $$\n",
    "\n",
    "Recall that we assumed that $\\Lambda$ is invertible. Hence by multiplying last equation by $\\Lambda^{-1}$ from both sides, we obtain\n",
    "\n",
    "$$ \\Lambda^{-1} \\mathbf{p_{exp}} = \\mathbf{p_{ideal}}. $$\n",
    "\n",
    "Effectively, by this kind of postprocessing, we obtain statistics which we would have obtained on the perfect detector devices.\n",
    "\n",
    "### Deviations from noise model\n",
    "#### Effects  on mitigation\n",
    "Above we assumed a very specific noise model. In practice it is likely that it will not be fulfilled exactly. In such a scenario, we may perform the following decomposition of POVM $M$ describing our device:\n",
    "$$ \\mathbf{M} = \\Lambda \\mathbf{P} + \\mathbf{\\Delta}\\ ,$$\n",
    "where $\\Delta$ denotes a \"coherent\" part of the noise and $\\Lambda$, as previously, is some stochastic, invertible map. \n",
    "\n",
    "In such a case, we can relate probability vector obtained on the noisy detector to ideal one in manner similar as before\n",
    "\n",
    "$$ \\mathbf{p_{exp}} = \\Lambda \\mathbf{p_{ideal}} + \\mathbf{d}\\ , $$\n",
    "where $\\mathbf{d}$ denotes a disturbance of probability vector due to existence of coherent part of the noise.\n",
    "If we now multiply the above expression by inverse of the noise matrix, we obtain\n",
    "\n",
    "$$ \\Lambda^{-1} \\mathbf{p_{exp}} = \\mathbf{p_{ideal}} + \\Lambda^{-1} \\mathbf{d}, \\  $$\n",
    "\n",
    "\n",
    "TODO: finish\n",
    "\n",
    "#### How to choose decomposition?\n",
    "In general, we can always perform decomposition into \"classical\" and \"coherent\" part in infinitely many ways. However, for the ideal detector $P$ modeled as projective measurement in computational basis, there exists a perfectly natural ansatz. Namely, we propose to consider diagonal parts of POVM's $\\mathbf{M}$ elements to describe classical part of the noise. \n",
    "As a justification for such choice, note that elements of $\\mathbf{P}$ for such ideal detector model are diagonal, and the stochastic map would preserve the diagonality. \n",
    "\n",
    "Hence, after obtaining description of POVM $\\mathbf{M}$ from detector tomography, reconstruction of $\\Lambda$ can be achieved by taking only diagonal parts of POVM's elements.\n",
    "\n",
    "\n",
    "\n",
    "\n",
    "### Finite-size statistics\n",
    "\n",
    "### When is mitigation succesfull?\n",
    "\n",
    "\n",
    "\n",
    "\n",
    "\n",
    "\n",
    "\n",
    "\n"
   ]
  },
  {
   "cell_type": "markdown",
   "metadata": {},
   "source": [
    "## Mitigating the error using our module\n",
    "\n",
    "### Performing Quantum Detector Tomography\n",
    "Our error mitigation approach is based on the knowledge about the noise in the device's detector. Such knowledge can be obtained in procedure known as Quantum Detector Tomography (QDT). To perform QDT, one can follow the steps from our [QDT tutorial](https://github.com/fbm2718/QREM/blob/master/QDT_Tutorial.ipynb). \n"
   ]
  },
  {
   "cell_type": "code",
   "execution_count": 1,
   "metadata": {},
   "outputs": [],
   "source": [
    "import povmtools\n",
    "import ancillary_functions as anf\n",
    "import numpy as np\n",
    "\n",
    "from qiskit import IBMQ, Aer, execute\n",
    "from qiskit.providers.aer import noise\n",
    "\n",
    "from quantum_tomography_qiskit import detector_tomography_circuits\n",
    "from DetectorTomographyFitter import DetectorTomographyFitter\n",
    "from QDTErrorMitigator import QDTErrorMitigator\n",
    "\n",
    "# Choose qubit indices\n",
    "QDT_qubit_index = [3]\n",
    "\n",
    "# Select probe kets\n",
    "QDT_probe_kets = povmtools.pauli_probe_eigenkets\n",
    "\n",
    "# Generate circuits\n",
    "QDT_circuits = detector_tomography_circuits(QDT_qubit_index, QDT_probe_kets)\n",
    "\n",
    "# Get QDT circuits results\n",
    "backend = Aer.get_backend('qasm_simulator')  #  Get backed\n",
    "shots_number = 2000  # Define number of measurement repetitions\n",
    "QDT_job = execute(QDT_circuits, backend=backend, shots=shots_number)\n",
    "results = QDT_job.result()\n",
    "\n",
    "# Get ml_povm_estimator using DTF and results\n",
    "DTF = DetectorTomographyFitter()\n",
    "ml_povm_estimator = DTF.get_maximum_likelihood_povm_estimator([results], QDT_probe_kets)"
   ]
  },
  {
   "cell_type": "markdown",
   "metadata": {},
   "source": [
    "## Preparing mitigation"
   ]
  },
  {
   "cell_type": "markdown",
   "metadata": {},
   "source": [
    "Now that we have the estimator of POVM, we can create QDTErrorMitigator object and prepare it."
   ]
  },
  {
   "cell_type": "code",
   "execution_count": 2,
   "metadata": {},
   "outputs": [],
   "source": [
    "# Creation and preparation of QDTErrorMitigator\n",
    "mitigator = QDTErrorMitigator()\n",
    "mitigator.prepare_mitigator(ml_povm_estimator)"
   ]
  },
  {
   "cell_type": "markdown",
   "metadata": {},
   "source": [
    "With prepared mitigator object we gain access to several useful functionalities. For example, we can:\n",
    "* Correct results of qiskit job by using apply_correction_to_qiskit_job(Results) method.\n",
    "* Access transition and correction matrices obtained from POVM given during preparation.\n",
    "\n",
    "In order to properly analyse the results of correction procedure, one have to be aware that in some cases raw application of $\\Lambda^{-1}$ to the results may yield quasiprobability (instead of probability) vectors. In such scenario our method calculates closest probability vectors and returns them instead. Distances from raw quasiprobabilities to returned probabilities, can be accessed via distances_from_closest_probability_vector member of mitigator object."
   ]
  },
  {
   "cell_type": "markdown",
   "metadata": {},
   "source": [
    "### Error bounds\n",
    "\n",
    "With access to POVM and the correction and transition matrices, we are able to calculate bounds on several errors. In particular, using povtools module, we can calculate:\n",
    "* statistical error bound (using get_statistical_error_bound method),\n",
    "* coherent error bound (using gt_coherent_error_bound method),\n",
    "* correction error bound (using get_correction_error_bound_from_data or get_correction_error_bound_from_parameters method).  "
   ]
  },
  {
   "cell_type": "markdown",
   "metadata": {},
   "source": [
    "## Single qubit error mitigation scenario\n",
    "\n",
    "In this section two examples of mitigation for single qubit will be shown. In order to show, that our mitigation scheme is efficient, we first need to create a noisy backend simulator. We start with required imports. "
   ]
  },
  {
   "cell_type": "code",
   "execution_count": 3,
   "metadata": {},
   "outputs": [],
   "source": [
    "from qiskit import QuantumCircuit, ClassicalRegister, QuantumRegister\n",
    "from qiskit import execute\n",
    "from qiskit import IBMQ, Aer\n",
    "from qiskit.providers.aer.noise import NoiseModel\n",
    "\n",
    "import povmtools\n",
    "from DetectorTomographyFitter import DetectorTomographyFitter\n",
    "from quantum_tomography_qiskit import detector_tomography_circuits\n",
    "from QDTErrorMitigator import QDTErrorMitigator"
   ]
  },
  {
   "cell_type": "markdown",
   "metadata": {},
   "source": [
    "We use standard qiskit methods to create noisy backend simulator. For this tutorial we will create simulator of IBM's Vigo device."
   ]
  },
  {
   "cell_type": "code",
   "execution_count": 4,
   "metadata": {},
   "outputs": [],
   "source": [
    "#  What I want to have first is working noisy backend simulation. In order to do that, I will use qiskit noise model\n",
    "# and download properties of selected backend.\n",
    "\n",
    "# Build noise model from backend properties.\n",
    "provider = IBMQ.load_account()\n",
    "backend = provider.get_backend('ibmq_vigo')\n",
    "noise_model = NoiseModel.from_backend(backend)\n",
    "\n",
    "# Get coupling map from backend, why not.\n",
    "coupling_map = backend.configuration().coupling_map\n",
    "\n",
    "# Get basis gates from noise model.\n",
    "basis_gates = noise_model.basis_gates\n",
    "\n",
    "# Finally, get the simulator backend.\n",
    "simulator_backend = Aer.get_backend('qasm_simulator')"
   ]
  },
  {
   "cell_type": "markdown",
   "metadata": {},
   "source": [
    "With backend created, what I need to do next is calculating POVM that describes its measurements best. To do that, following our QDT tutorial, I use DetectorTomographyFitter object from our module. In order to do that, I need to create calibration circuits and obtain their results first."
   ]
  },
  {
   "cell_type": "code",
   "execution_count": 5,
   "metadata": {},
   "outputs": [
    {
     "name": "stdout",
     "output_type": "stream",
     "text": [
      "{'0': 1987, '1': 13}\n",
      "{'0': 36, '1': 1964}\n",
      "{'0': 1038, '1': 962}\n",
      "{'0': 1043, '1': 957}\n",
      "{'0': 994, '1': 1006}\n",
      "{'0': 1006, '1': 994}\n"
     ]
    }
   ],
   "source": [
    "# What I want to do now, is prepare POVM for simulated backend. According to our other notebook, I prepare\n",
    "# circuits first.\n",
    "\n",
    "qdt_qubit_index = [0]\n",
    "qdt_probe_kets = povmtools.pauli_probe_eigenkets\n",
    "qdt_calibration_circuits = detector_tomography_circuits(qdt_qubit_index, qdt_probe_kets)\n",
    "\n",
    "# I then execute them on backend prepared earlier.\n",
    "shots_number = 2000\n",
    "\n",
    "# Perform a noisy simulation\n",
    "result = execute(qdt_calibration_circuits, simulator_backend, coupling_map=coupling_map, basis_gates=basis_gates,\n",
    "                 noise_model=noise_model, shots=shots_number)\\\n",
    "                 .result()\n",
    "\n",
    "# Print counts.\n",
    "for i in range(len(result.results)):\n",
    "    print(result.get_counts(i))"
   ]
  },
  {
   "cell_type": "markdown",
   "metadata": {},
   "source": [
    "Shot's number is obviously a matter of choice in this case. It's preferable to use more (real backends allows more that 8k shots per job) as in that way we obtain better statistics. With more accurate job results, we can -- obviously -- prepare better POVMs. Maximum likelihood POVM calculation is as easy as calling single method now."
   ]
  },
  {
   "cell_type": "code",
   "execution_count": 6,
   "metadata": {},
   "outputs": [
    {
     "name": "stdout",
     "output_type": "stream",
     "text": [
      "[[ 0.99369959+7.67339058e-19j -0.00125087+2.99909517e-03j]\n",
      " [-0.00125087-2.99909517e-03j  0.01858137-9.63724971e-19j]]\n",
      "[[0.00630041-7.67325823e-19j 0.00125087-2.99909517e-03j]\n",
      " [0.00125087+2.99909517e-03j 0.98141863-1.82198865e-16j]]\n"
     ]
    }
   ],
   "source": [
    "# With circuits results I can now use our Detector Tomography Fitter to obtain maximum likelihood POVM estimator.\n",
    "dtf = DetectorTomographyFitter()\n",
    "ml_povm_estimator = dtf.get_maximum_likelihood_povm_estimator([result], qdt_probe_kets)\n",
    "\n",
    "for m_i in ml_povm_estimator:\n",
    "    print(m_i)"
   ]
  },
  {
   "cell_type": "markdown",
   "metadata": {},
   "source": [
    "With POVM calculated, we can now create and prepare mitigator object."
   ]
  },
  {
   "cell_type": "code",
   "execution_count": 7,
   "metadata": {},
   "outputs": [],
   "source": [
    "# I can use obtained POVM to correct to prepare mitigation object.\n",
    "mitigator = QDTErrorMitigator()\n",
    "mitigator.prepare_mitigator(ml_povm_estimator)"
   ]
  },
  {
   "cell_type": "markdown",
   "metadata": {},
   "source": [
    "With these preparations out of the way, we can now check how efficient our error mitigation approach is. Let's consider two simple scenarios."
   ]
  },
  {
   "cell_type": "markdown",
   "metadata": {},
   "source": [
    "### X gate circuit\n",
    "\n",
    "In this case, we will first create a one qubit circuit (initially in |0><0| state) and we will apply X (not) operation to it. In ideal scenario we would expect all counts in state |1><1|. We begin with circuit creation."
   ]
  },
  {
   "cell_type": "code",
   "execution_count": 8,
   "metadata": {},
   "outputs": [
    {
     "data": {
      "text/plain": [
       "<qiskit.circuit.instructionset.InstructionSet at 0x1539d7fa520>"
      ]
     },
     "execution_count": 8,
     "metadata": {},
     "output_type": "execute_result"
    }
   ],
   "source": [
    "# In order to check how efficient our mitigator is, we need to obtain some noisy data first.\n",
    "# We will start with preparing simple experiment.\n",
    "\n",
    "qr = QuantumRegister(1, 'qreg')\n",
    "cr = ClassicalRegister(1, 'creg')\n",
    "qc = QuantumCircuit(qr, cr)\n",
    "\n",
    "qc.x(qr[0])\n",
    "qc.measure(qr, cr)"
   ]
  },
  {
   "cell_type": "markdown",
   "metadata": {},
   "source": [
    "Now we execute this circuit on our simulator and check the results."
   ]
  },
  {
   "cell_type": "code",
   "execution_count": 9,
   "metadata": {},
   "outputs": [
    {
     "name": "stdout",
     "output_type": "stream",
     "text": [
      "{'0': 33, '1': 1967}\n"
     ]
    }
   ],
   "source": [
    "result = execute(qc, simulator_backend, coupling_map=coupling_map, basis_gates=basis_gates,\n",
    "                 noise_model=noise_model, shots=shots_number)\\\n",
    "                 .result()\n",
    "\n",
    "for i in range(len(result.results)):\n",
    "    print(result.get_counts(i))"
   ]
  },
  {
   "cell_type": "markdown",
   "metadata": {},
   "source": [
    "As we can see, noisy simulator returned some errors (|0><0| counts), as expected. Let's try to correct these results using our mitigator."
   ]
  },
  {
   "cell_type": "code",
   "execution_count": 10,
   "metadata": {},
   "outputs": [
    {
     "name": "stdout",
     "output_type": "stream",
     "text": [
      "good format\n",
      "[array([[0.],\n",
      "       [1.]])]\n"
     ]
    }
   ],
   "source": [
    "# Now let's correct them.\n",
    "corrected_results = mitigator.apply_correction_to_qiskit_job(result)\n",
    "print(corrected_results)"
   ]
  },
  {
   "cell_type": "markdown",
   "metadata": {},
   "source": [
    "What we see here, is that instead of counts, our mitigator returned frequencies. In order to obtain counts we could multiply  corrected results times number of shots. This step isn't obviously necessary, as it can be clearly seen that results are indeed better, but let's do it for good measure."
   ]
  },
  {
   "cell_type": "code",
   "execution_count": 11,
   "metadata": {},
   "outputs": [
    {
     "name": "stdout",
     "output_type": "stream",
     "text": [
      "[0.0, 2000.0]\n"
     ]
    }
   ],
   "source": [
    "print([corrected_results[0][0][0] * shots_number, corrected_results[0][1][0] * shots_number])"
   ]
  },
  {
   "cell_type": "markdown",
   "metadata": {},
   "source": [
    "Indeed, we've got barely one count, out of 2000, in calculated in wrong state. Compared to raw 52 counts, this is a very good outcome. Let's try another test."
   ]
  },
  {
   "cell_type": "markdown",
   "metadata": {},
   "source": [
    "### H gate circuit\n",
    "\n",
    "In this case, we will use H (Hadamard) gate, instead of X. Everything else will be exactly like in the first scenario. We begin with creating and executing a circuit and then printing raw results of the job. We expect to obtain equal number of |1> and |0> states conuts."
   ]
  },
  {
   "cell_type": "code",
   "execution_count": 17,
   "metadata": {},
   "outputs": [
    {
     "name": "stdout",
     "output_type": "stream",
     "text": [
      "{'0': 1030, '1': 970}\n"
     ]
    }
   ],
   "source": [
    "# Let's try another example.\n",
    "qr2 = QuantumRegister(1, 'qreg2')\n",
    "cr2 = ClassicalRegister(1, 'creg2')\n",
    "qc2 = QuantumCircuit(qr2, cr2)\n",
    "\n",
    "qc2.h(qr2[0])\n",
    "qc2.measure(qr2, cr2)\n",
    "\n",
    "result = execute(qc2, simulator_backend, coupling_map=coupling_map, basis_gates=basis_gates,\n",
    "                 noise_model=noise_model, shots=shots_number)\\\n",
    "                 .result()\n",
    "\n",
    "for i in range(len(result.results)):\n",
    "    print(result.get_counts(i))"
   ]
  },
  {
   "cell_type": "markdown",
   "metadata": {},
   "source": [
    "We see, that we again have got around 60 of wrong counts. Let's try to apply error mitigation."
   ]
  },
  {
   "cell_type": "code",
   "execution_count": 18,
   "metadata": {},
   "outputs": [
    {
     "name": "stdout",
     "output_type": "stream",
     "text": [
      "good format\n",
      "[array([[0.50908558],\n",
      "       [0.49091442]])]\n"
     ]
    }
   ],
   "source": [
    "# Now let's correct them.\n",
    "corrected_results = mitigator.apply_correction_to_qiskit_job(result)\n",
    "print(corrected_results)"
   ]
  },
  {
   "cell_type": "markdown",
   "metadata": {},
   "source": [
    "And print them as counts."
   ]
  },
  {
   "cell_type": "code",
   "execution_count": 19,
   "metadata": {},
   "outputs": [
    {
     "name": "stdout",
     "output_type": "stream",
     "text": [
      "[1018.1711624262215, 981.8288375737791]\n"
     ]
    }
   ],
   "source": [
    "print([corrected_results[0][0][0] * shots_number, corrected_results[0][1][0] * shots_number])"
   ]
  },
  {
   "cell_type": "markdown",
   "metadata": {},
   "source": [
    "Once again, the results are better!"
   ]
  },
  {
   "cell_type": "markdown",
   "metadata": {},
   "source": [
    "There is, however one important thing concerning __Hadamard circuit__ in particular. Due to probabilistic nature of noisy simulation it's possible to obtain perfect (or close to perfect) outcome. In such scenario it's possible for out mitigation procedure to worsen the results. This effect can be observed even in this tutorial, for discussed outcomes of the circuit.\n",
    "\n",
    "One can easily see, that determining if mitigation was a success or not is an important issue. This is especially true for experiments for which results are not known. Following procedure described in [0], by comparing operational distances and some error bounds, we can find out if mitigation failed or not! Let's do that. We start with calculating statistical error bound. We start with appointing mistake probability. "
   ]
  },
  {
   "cell_type": "code",
   "execution_count": 20,
   "metadata": {},
   "outputs": [],
   "source": [
    "# We can check out if mitigation was success. In order to do that, we have to calculate error bounds.\n",
    "# Let's assume (according to the notation form the main paper) that alpha=0.\n",
    "\n",
    "statistical_error_mistake_probability = 0.01"
   ]
  },
  {
   "cell_type": "markdown",
   "metadata": {},
   "source": [
    "Now we need counts, formatted as array."
   ]
  },
  {
   "cell_type": "code",
   "execution_count": 21,
   "metadata": {},
   "outputs": [
    {
     "name": "stdout",
     "output_type": "stream",
     "text": [
      "[1030, 970]\n"
     ]
    }
   ],
   "source": [
    "# We need counts as array. The outcomes are 0 or 1, so we can create them in straightforward way.\n",
    "counts_dict = result.get_counts()\n",
    "counts = [counts_dict['0'], counts_dict['1']]\n",
    "print(counts)"
   ]
  },
  {
   "cell_type": "markdown",
   "metadata": {},
   "source": [
    "Now we can use povmtools method to calculate statustical error bound."
   ]
  },
  {
   "cell_type": "code",
   "execution_count": 22,
   "metadata": {},
   "outputs": [
    {
     "name": "stdout",
     "output_type": "stream",
     "text": [
      "0.036394770800720934\n"
     ]
    }
   ],
   "source": [
    "# We calculate statistical error bound. Let's call it epsilon.\n",
    "epsilon = povmtools.get_statistical_error_bound(counts, statistical_error_mistake_probability)\n",
    "print(epsilon)"
   ]
  },
  {
   "cell_type": "markdown",
   "metadata": {},
   "source": [
    "That's, however, not enough. We'll also require correction error. Luckily, we have all the arguments necessary for its calculation using prepared povmtools method."
   ]
  },
  {
   "cell_type": "code",
   "execution_count": 23,
   "metadata": {},
   "outputs": [
    {
     "name": "stdout",
     "output_type": "stream",
     "text": [
      "0.04115515278501394\n"
     ]
    }
   ],
   "source": [
    "# We now need the correction error bound. Let's call it delta.\n",
    "delta = povmtools.get_correction_error_bound_from_data_and_statistical_error(ml_povm_estimator,\n",
    "                                                                             mitigator.correction_matrix, epsilon)\n",
    "print(delta)"
   ]
  },
  {
   "cell_type": "markdown",
   "metadata": {},
   "source": [
    "Last thing required for determining mitigation success is operational distance between perfect measurement and our ml_povm_estimator. We calculate it, once again, using povmtools module function."
   ]
  },
  {
   "cell_type": "code",
   "execution_count": 24,
   "metadata": {},
   "outputs": [
    {
     "name": "stdout",
     "output_type": "stream",
     "text": [
      "0.018998749666391156\n"
     ]
    }
   ],
   "source": [
    "# We also need operational distance, between perfect detector and our POVM. We calculate it.\n",
    "perfect_measurement = [[[1, 0], [0, 0]], [[0, 0], [0, 1]]]  # For one qubit!\n",
    "operational_distance = povmtools.operational_distance_POVMs(ml_povm_estimator, perfect_measurement)\n",
    "print(operational_distance)"
   ]
  },
  {
   "cell_type": "markdown",
   "metadata": {},
   "source": [
    "And finally, we can check if our mitigation was a success!"
   ]
  },
  {
   "cell_type": "code",
   "execution_count": 25,
   "metadata": {},
   "outputs": [
    {
     "name": "stdout",
     "output_type": "stream",
     "text": [
      "Mitigation success: True\n"
     ]
    }
   ],
   "source": [
    "# Now we can check if mitigation can be deemed as success!\n",
    "print(f'Mitigation success: {delta < operational_distance + epsilon}')"
   ]
  },
  {
   "cell_type": "markdown",
   "metadata": {},
   "source": [
    "## Multi Qubit error mitigation scenario\n",
    "\n",
    "Our method can easily be expanded for multiple qubits. It's done analogically to the single qubit experiments. We start with preparing noisy backend, again. We can use the same code as in one qubit scenario."
   ]
  },
  {
   "cell_type": "code",
   "execution_count": 26,
   "metadata": {},
   "outputs": [],
   "source": [
    "from qiskit import QuantumCircuit, ClassicalRegister, QuantumRegister\n",
    "from qiskit import execute\n",
    "from qiskit import IBMQ, Aer\n",
    "from qiskit.providers.aer.noise import NoiseModel\n",
    "\n",
    "import povmtools\n",
    "from DetectorTomographyFitter import DetectorTomographyFitter\n",
    "from quantum_tomography_qiskit import detector_tomography_circuits\n",
    "from QDTErrorMitigator import QDTErrorMitigator\n",
    "\n",
    "#  What I want to have first is working noisy backend simulation. In order to do that, I will use qiskit noise model\n",
    "# and download properties of selected backend.\n",
    "\n",
    "# Build noise model from backend properties.\n",
    "provider = IBMQ.load_account()\n",
    "backend = provider.get_backend('ibmq_vigo')\n",
    "noise_model = NoiseModel.from_backend(backend)\n",
    "\n",
    "# Get coupling map from backend, why not.\n",
    "coupling_map = backend.configuration().coupling_map\n",
    "\n",
    "# Get basis gates from noise model.\n",
    "basis_gates = noise_model.basis_gates\n",
    "\n",
    "# Finally, get the simulator backend.\n",
    "simulator_backend = Aer.get_backend('qasm_simulator')"
   ]
  },
  {
   "cell_type": "markdown",
   "metadata": {},
   "source": [
    "Now the POVM. This time we need higher dimensional one, as we are concerning multi qubit scenario. The code, however, doesn't change much. The only thing we need to do is modify qdt_qubit_indices list."
   ]
  },
  {
   "cell_type": "code",
   "execution_count": 27,
   "metadata": {},
   "outputs": [
    {
     "name": "stdout",
     "output_type": "stream",
     "text": [
      "{'00': 7914, '10': 59, '01': 27}\n",
      "{'00': 202, '10': 7766, '11': 32}\n",
      "{'00': 3987, '10': 3980, '11': 15, '01': 18}\n",
      "{'00': 4108, '10': 3863, '11': 16, '01': 13}\n",
      "{'00': 4149, '10': 3819, '11': 17, '01': 15}\n",
      "{'00': 4082, '10': 3881, '11': 16, '01': 21}\n",
      "{'00': 146, '11': 29, '01': 7825}\n",
      "{'00': 4, '10': 139, '11': 7645, '01': 212}\n",
      "{'00': 71, '10': 71, '11': 3864, '01': 3994}\n",
      "{'00': 72, '10': 60, '11': 3893, '01': 3975}\n",
      "{'00': 75, '10': 80, '11': 3829, '01': 4016}\n",
      "{'00': 73, '10': 84, '11': 3787, '01': 4056}\n",
      "{'00': 4030, '10': 17, '11': 26, '01': 3927}\n",
      "{'00': 93, '10': 3889, '11': 3925, '01': 93}\n",
      "{'00': 2107, '10': 1883, '11': 2002, '01': 2008}\n",
      "{'00': 2048, '10': 1952, '11': 2011, '01': 1989}\n",
      "{'00': 2068, '10': 1986, '11': 1975, '01': 1971}\n",
      "{'00': 2099, '10': 1957, '11': 1983, '01': 1961}\n",
      "{'00': 3989, '10': 23, '11': 21, '01': 3967}\n",
      "{'00': 114, '10': 3912, '11': 3869, '01': 105}\n",
      "{'00': 2012, '10': 2095, '11': 1960, '01': 1933}\n",
      "{'00': 2002, '10': 2027, '11': 1937, '01': 2034}\n",
      "{'00': 2050, '10': 1955, '11': 1950, '01': 2045}\n",
      "{'00': 2063, '10': 2119, '11': 1881, '01': 1937}\n",
      "{'00': 4044, '10': 27, '11': 27, '01': 3902}\n",
      "{'00': 103, '10': 3961, '11': 3829, '01': 107}\n",
      "{'00': 2099, '10': 2029, '11': 1875, '01': 1997}\n",
      "{'00': 2090, '10': 1993, '11': 1923, '01': 1994}\n",
      "{'00': 2065, '10': 1953, '11': 2037, '01': 1945}\n",
      "{'00': 2045, '10': 1980, '11': 1974, '01': 2001}\n",
      "{'00': 4029, '10': 27, '11': 23, '01': 3921}\n",
      "{'00': 105, '10': 3935, '11': 3863, '01': 97}\n",
      "{'00': 2017, '10': 1950, '11': 2039, '01': 1994}\n",
      "{'00': 2028, '10': 1990, '11': 1990, '01': 1992}\n",
      "{'00': 2063, '10': 1933, '11': 1979, '01': 2025}\n",
      "{'00': 2069, '10': 1952, '11': 1938, '01': 2041}\n"
     ]
    }
   ],
   "source": [
    "# What I want to do now, is prepare POVM for simulated backend. According to our other notebook, I prepare\n",
    "# circuits first.\n",
    "\n",
    "qdt_qubit_indices = [0, 1]\n",
    "qdt_probe_kets = povmtools.pauli_probe_eigenkets\n",
    "qdt_calibration_circuits = detector_tomography_circuits(qdt_qubit_indices, qdt_probe_kets)\n",
    "\n",
    "# I then execute them on backend prepared earlier.\n",
    "shots_number = 8000\n",
    "\n",
    "# Perform a noisy simulation\n",
    "result = execute(qdt_calibration_circuits, simulator_backend, coupling_map=coupling_map, basis_gates=basis_gates,\n",
    "                 noise_model=noise_model, shots=shots_number) \\\n",
    "    .result()\n",
    "\n",
    "# Print counts.\n",
    "for i in range(len(result.results)):\n",
    "    print(result.get_counts(i))"
   ]
  },
  {
   "cell_type": "markdown",
   "metadata": {},
   "source": [
    "Now, we can calculate the POVM estimator."
   ]
  },
  {
   "cell_type": "code",
   "execution_count": 28,
   "metadata": {},
   "outputs": [
    {
     "name": "stdout",
     "output_type": "stream",
     "text": [
      "[[ 9.89770000e-01+1.11003668e-18j -1.69699034e-03-2.93625323e-03j\n",
      "   3.38523772e-03-2.85113506e-03j  7.83420321e-04+2.53047563e-04j]\n",
      " [-1.69699034e-03+2.93625323e-03j  2.55854038e-02-6.70426578e-19j\n",
      "   2.20772564e-03-1.17065036e-03j -9.73767163e-04+6.96014981e-05j]\n",
      " [ 3.38523772e-03+2.85113506e-03j  2.20772564e-03+1.17065036e-03j\n",
      "   1.79574829e-02+4.12002120e-18j  1.00843009e-04+1.18286321e-04j]\n",
      " [ 7.83420321e-04-2.53047563e-04j -9.73767163e-04-6.96014981e-05j\n",
      "   1.00843009e-04-1.18286321e-04j  4.44728104e-04-2.47757137e-19j]]\n",
      "[[ 6.33870861e-03-4.57397792e-19j  1.60680854e-03+2.80335303e-03j\n",
      "  -3.98888920e-04-7.14964947e-05j -4.16270627e-03-7.68820078e-03j]\n",
      " [ 1.60680854e-03-2.80335303e-03j  9.70239950e-01-5.74377277e-17j\n",
      "  -3.73296228e-03+2.84503718e-03j -6.84455313e-03-3.24579678e-03j]\n",
      " [-3.98888920e-04+7.14964947e-05j -3.73296228e-03-2.84503718e-03j\n",
      "   4.95132491e-05-3.41989552e-20j  4.67176614e-04+4.23075756e-04j]\n",
      " [-4.16270627e-03+7.68820078e-03j -6.84455313e-03+3.24579678e-03j\n",
      "   4.67176614e-04-4.23075756e-04j  1.74997790e-02+1.34127667e-18j]]\n",
      "[[ 3.85153573e-03-9.27712835e-19j  1.48021017e-04+2.04752500e-04j\n",
      "  -3.17344152e-03+3.07849192e-03j  4.71509767e-03+2.69776586e-03j]\n",
      " [ 1.48021017e-04-2.04752500e-04j  4.70472492e-05-7.32154104e-20j\n",
      "   1.89889242e-03-2.45404052e-03j -1.54252071e-04-4.04042258e-04j]\n",
      " [-3.17344152e-03-3.07849192e-03j  1.89889242e-03+2.45404052e-03j\n",
      "   9.76614190e-01+8.19510729e-17j -7.76256417e-04+1.75315294e-03j]\n",
      " [ 4.71509767e-03-2.69776586e-03j -1.54252071e-04+4.04042258e-04j\n",
      "  -7.76256417e-04-1.75315294e-03j  2.46612057e-02-1.71031834e-18j]]\n",
      "[[ 3.97560895e-05+2.61190550e-19j -5.78392174e-05-7.18522959e-05j\n",
      "   1.87092717e-04-1.55860370e-04j -1.33581172e-03+4.73738736e-03j]\n",
      " [-5.78392174e-05+7.18522959e-05j  4.12759884e-03-6.66667869e-19j\n",
      "  -3.73655791e-04+7.79653692e-04j  7.97257237e-03+3.58023754e-03j]\n",
      " [ 1.87092717e-04+1.55860370e-04j -3.73655791e-04-7.79653692e-04j\n",
      "   5.37881344e-03+1.26117912e-18j  2.08236793e-04-2.29451502e-03j]\n",
      " [-1.33581172e-03-4.73738736e-03j  7.97257237e-03-3.58023754e-03j\n",
      "   2.08236793e-04+2.29451502e-03j  9.57394287e-01+1.65633058e-17j]]\n"
     ]
    }
   ],
   "source": [
    "# With circuits results I can now use our Detector Tomography Fitter to obtain maximum likelihood POVM estimator.\n",
    "dtf = DetectorTomographyFitter()\n",
    "ml_povm_estimator = dtf.get_maximum_likelihood_povm_estimator([result], qdt_probe_kets)\n",
    "\n",
    "for m_i in ml_povm_estimator:\n",
    "    print(m_i)"
   ]
  },
  {
   "cell_type": "markdown",
   "metadata": {},
   "source": [
    "And with POVM estimator, we can prepare mitigator object."
   ]
  },
  {
   "cell_type": "code",
   "execution_count": 30,
   "metadata": {},
   "outputs": [],
   "source": [
    "# I can use obtained POVM to correct to prepare mitigation object.\n",
    "mitigator = QDTErrorMitigator()\n",
    "mitigator.prepare_mitigator(ml_povm_estimator)"
   ]
  },
  {
   "cell_type": "markdown",
   "metadata": {},
   "source": [
    "Again, let's check how the mitigation work on several circuits."
   ]
  },
  {
   "cell_type": "markdown",
   "metadata": {},
   "source": [
    "### Hadamards circuit\n",
    "\n",
    "We begin with circuit applying Hadamard gates on both qubits. Let's prepare such circuit."
   ]
  },
  {
   "cell_type": "code",
   "execution_count": 31,
   "metadata": {},
   "outputs": [
    {
     "data": {
      "text/plain": [
       "<qiskit.circuit.instructionset.InstructionSet at 0x153a0838f10>"
      ]
     },
     "execution_count": 31,
     "metadata": {},
     "output_type": "execute_result"
    }
   ],
   "source": [
    "# In order to check how efficient our mitigator is, we need to obtain some noisy data first.\n",
    "# We will start with preparing simple experiment.\n",
    "\n",
    "qr = QuantumRegister(2, 'qreg')\n",
    "cr = ClassicalRegister(2, 'creg')\n",
    "qc = QuantumCircuit(qr, cr)\n",
    "\n",
    "qc.h(qr[0])\n",
    "qc.h(qr[1])\n",
    "qc.measure(qr, cr)"
   ]
  },
  {
   "cell_type": "markdown",
   "metadata": {},
   "source": [
    "We then execute this circuit and print the results."
   ]
  },
  {
   "cell_type": "code",
   "execution_count": 32,
   "metadata": {},
   "outputs": [
    {
     "name": "stdout",
     "output_type": "stream",
     "text": [
      "{'00': 2064, '10': 2039, '11': 1894, '01': 2003}\n"
     ]
    }
   ],
   "source": [
    "result = execute(qc, simulator_backend, coupling_map=coupling_map, basis_gates=basis_gates,\n",
    "                 noise_model=noise_model, shots=shots_number) \\\n",
    "    .result()\n",
    "\n",
    "for i in range(len(result.results)):\n",
    "    print(result.get_counts(i))"
   ]
  },
  {
   "cell_type": "markdown",
   "metadata": {},
   "source": [
    "Now we can correct them."
   ]
  },
  {
   "cell_type": "code",
   "execution_count": 37,
   "metadata": {},
   "outputs": [
    {
     "name": "stdout",
     "output_type": "stream",
     "text": [
      "good format\n",
      "[[1995.21199029]\n",
      " [1993.54915208]\n",
      " [2053.08697084]\n",
      " [1958.15188678]]\n"
     ]
    }
   ],
   "source": [
    "# Now let's correct them.\n",
    "corrected_results = mitigator.apply_correction_to_qiskit_job(result)\n",
    "print(corrected_results[0] * shots_number)"
   ]
  },
  {
   "cell_type": "markdown",
   "metadata": {},
   "source": [
    "One can clarly see, that the results are better. Let's try with some multi-qubit gates."
   ]
  },
  {
   "cell_type": "markdown",
   "metadata": {},
   "source": [
    "### CNot Circuit\n",
    "\n",
    "This time we will use a CNot gate. First we will prepare a qubit in state |1> and then use it as a control to negate the other qubit. We will expect all counts to be in state |11>. The circuit can be codded as below."
   ]
  },
  {
   "cell_type": "code",
   "execution_count": 39,
   "metadata": {},
   "outputs": [
    {
     "data": {
      "text/plain": [
       "<qiskit.circuit.instructionset.InstructionSet at 0x153a08857f0>"
      ]
     },
     "execution_count": 39,
     "metadata": {},
     "output_type": "execute_result"
    }
   ],
   "source": [
    "# Let's try another example.\n",
    "qr2 = QuantumRegister(2, 'qreg2')\n",
    "cr2 = ClassicalRegister(2, 'creg2')\n",
    "qc2 = QuantumCircuit(qr2, cr2)\n",
    "\n",
    "qc2.x(qr2[0])\n",
    "qc2.cx(qr2[0], qr2[1])\n",
    "qc2.measure(qr2, cr2)"
   ]
  },
  {
   "cell_type": "markdown",
   "metadata": {},
   "source": [
    "Executing this circuits yields following results."
   ]
  },
  {
   "cell_type": "code",
   "execution_count": 40,
   "metadata": {},
   "outputs": [
    {
     "name": "stdout",
     "output_type": "stream",
     "text": [
      "{'00': 16, '10': 122, '11': 7618, '01': 244}\n"
     ]
    }
   ],
   "source": [
    "result = execute(qc2, simulator_backend, coupling_map=coupling_map, basis_gates=basis_gates,\n",
    "                 noise_model=noise_model, shots=shots_number) \\\n",
    "    .result()\n",
    "\n",
    "for i in range(len(result.results)):\n",
    "    print(result.get_counts(i))"
   ]
  },
  {
   "cell_type": "markdown",
   "metadata": {},
   "source": [
    "As expected, we can see some garbage. Let's try to mitigate it."
   ]
  },
  {
   "cell_type": "code",
   "execution_count": 41,
   "metadata": {},
   "outputs": [
    {
     "name": "stdout",
     "output_type": "stream",
     "text": [
      "good format\n",
      "[[6.21386776e+00]\n",
      " [4.29210985e+01]\n",
      " [0.00000000e+00]\n",
      " [7.95086503e+03]]\n"
     ]
    }
   ],
   "source": [
    "# Now let's correct them.\n",
    "corrected_results = mitigator.apply_correction_to_qiskit_job(result)\n",
    "print(corrected_results[0] * shots_number)"
   ]
  },
  {
   "cell_type": "markdown",
   "metadata": {},
   "source": [
    "Easily enough, the results are clearly better. Let's now combine Hadamard and CNot gate."
   ]
  },
  {
   "cell_type": "markdown",
   "metadata": {},
   "source": [
    "### Hadamard + CNot circuit\n",
    "\n",
    "In this scenario, we will first prepare first qubit in superposition of states |0> and |1>. We will then, again, use it as a control qubit to negate the second one. We will expect equal number of counts in |00> and |11> states. The circuit can be prepared like below."
   ]
  },
  {
   "cell_type": "code",
   "execution_count": 42,
   "metadata": {},
   "outputs": [
    {
     "data": {
      "text/plain": [
       "<qiskit.circuit.instructionset.InstructionSet at 0x1539d8220a0>"
      ]
     },
     "execution_count": 42,
     "metadata": {},
     "output_type": "execute_result"
    }
   ],
   "source": [
    "# Final example!\n",
    "qr3 = QuantumRegister(2, 'qreg2')\n",
    "cr3 = ClassicalRegister(2, 'creg2')\n",
    "qc3 = QuantumCircuit(qr3, cr3)\n",
    "\n",
    "qc3.h(qr3[0])\n",
    "qc3.cx(qr3[0], qr2[1])\n",
    "qc3.measure(qr3, cr3)"
   ]
  },
  {
   "cell_type": "markdown",
   "metadata": {},
   "source": [
    "We now execute it and print the results."
   ]
  },
  {
   "cell_type": "code",
   "execution_count": 43,
   "metadata": {},
   "outputs": [
    {
     "name": "stdout",
     "output_type": "stream",
     "text": [
      "{'00': 3928, '10': 90, '11': 3856, '01': 126}\n"
     ]
    }
   ],
   "source": [
    "result = execute(qc3, simulator_backend, coupling_map=coupling_map, basis_gates=basis_gates,\n",
    "                 noise_model=noise_model, shots=shots_number) \\\n",
    "    .result()\n",
    "\n",
    "for i in range(len(result.results)):\n",
    "    print(result.get_counts(i))"
   ]
  },
  {
   "cell_type": "markdown",
   "metadata": {},
   "source": [
    "There's some room for improvement. Let's apply the mitigation."
   ]
  },
  {
   "cell_type": "code",
   "execution_count": 44,
   "metadata": {},
   "outputs": [
    {
     "name": "stdout",
     "output_type": "stream",
     "text": [
      "good format\n",
      "[[3964.79532806]\n",
      " [   9.74310772]\n",
      " [   0.        ]\n",
      " [4025.46156423]]\n"
     ]
    }
   ],
   "source": [
    "# Now let's correct them.\n",
    "corrected_results = mitigator.apply_correction_to_qiskit_job(result)\n",
    "print(corrected_results[0] * shots_number)"
   ]
  },
  {
   "cell_type": "markdown",
   "metadata": {},
   "source": [
    "Once again, the results are clearly better.\n",
    "\n",
    "This time it was possible, to determine if the mitigation worked without using mitigation success check. If, however, one would like to perform it, then the only difference between multi and single qubit scenario code, would be perfect_measurement definition (adequate to the dimension of the problem). Mitigation success check won't be, therefore, shown for multi qubit case.\n",
    "\n",
    "As a final remark one should be aware, that the results of the mitigation and its success in particular, strongly depends on quantum detector tomography method used during POVM calculation. In our work maximum likelihood method was used, but there are several different"
   ]
  },
  {
   "cell_type": "markdown",
   "metadata": {},
   "source": [
    "# References\n",
    "\n",
    "[0] Filip B. Maciejewski, Zoltán Zimborás, Michał Oszmaniec, *Mitigation of readout noise in near-term quantum devices by classical post-processing based on detector tomography*, arxiv preprint, https://arxiv.org/abs/1907.08518 (2019)\n",
    "  "
   ]
  }
 ],
 "metadata": {
  "kernelspec": {
   "display_name": "Python 3",
   "language": "python",
   "name": "python3"
  },
  "language_info": {
   "codemirror_mode": {
    "name": "ipython",
    "version": 3
   },
   "file_extension": ".py",
   "mimetype": "text/x-python",
   "name": "python",
   "nbconvert_exporter": "python",
   "pygments_lexer": "ipython3",
   "version": "3.8.1"
  }
 },
 "nbformat": 4,
 "nbformat_minor": 2
}
