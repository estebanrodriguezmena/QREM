{
 "cells": [
  {
   "cell_type": "markdown",
   "metadata": {},
   "source": [
    "# Error mitigation\n",
    "\n",
    "This notebook contains examples for using our Error Mitigation module with Qiskit."
   ]
  },
  {
   "cell_type": "markdown",
   "metadata": {},
   "source": [
    "## Theoretical background\n",
    "\n",
    "In this section description of proposed method will be provided. There are several important things to note first. Our method is targeted at such error model wherein dominant noise is classical. In practice, alongiside classical noise, there also exists coherent noise. Information about both of these noises can be, in a way, extracted from QDT. The usage of QDT module has been extracted in previous section.\n",
    "\n",
    "Let $M$ denote POVM describing noisy detector and $P$ denote ideal measurement. Then classical error can be mathematically expressed as a stochastic, invertable map $\\Lambda$ in such way, that:\n",
    "\n",
    "$$ M = \\Lambda P.$$\n",
    "\n",
    "If that's that case, then following correction procedure can be applied. Imagine, we've access to experimental statistics $p_{exp}$ and we want to correct them in such way, that would allow us to obtain ideal one $p_{ideal}$. Due to the assumed nature of the noise, we can write, that:\n",
    "\n",
    "$$ p_{exp} = \\Lambda p_{ideal}. $$\n",
    "\n",
    "We've assumed, when describing the noise, that $\\Lambda$ is invertible. If so, then by multiplying last equation by $\\Lambda^{-1}$ from both sides, we obtain\n",
    "\n",
    "$$ \\Lambda^{-1} p_{exp} = p_{ideal}. $$\n",
    "\n",
    "Effectively, by this kind of postprocessing, we obtain statistics close to what we would normally obtain on non-noisy devices."
   ]
  },
  {
   "cell_type": "markdown",
   "metadata": {},
   "source": [
    "## Error mitigator\n",
    "\n"
   ]
  },
  {
   "cell_type": "code",
   "execution_count": null,
   "metadata": {},
   "outputs": [],
   "source": []
  }
 ],
 "metadata": {
  "kernelspec": {
   "display_name": "Python 3",
   "language": "python",
   "name": "python3"
  },
  "language_info": {
   "codemirror_mode": {
    "name": "ipython",
    "version": 3
   },
   "file_extension": ".py",
   "mimetype": "text/x-python",
   "name": "python",
   "nbconvert_exporter": "python",
   "pygments_lexer": "ipython3",
   "version": "3.7.4"
  }
 },
 "nbformat": 4,
 "nbformat_minor": 2
}
