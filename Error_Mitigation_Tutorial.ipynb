{
 "cells": [
  {
   "cell_type": "markdown",
   "metadata": {},
   "source": [
    "# Error mitigation\n",
    "\n",
    "This notebook contains examples for using our Error Mitigation module with Qiskit."
   ]
  },
  {
   "cell_type": "markdown",
   "metadata": {},
   "source": [
    "## Theoretical background\n",
    "\n",
    "In this section description of proposed method will be provided. There are several important things to note first. Our method is targeted at such error model wherein dominant noise is classical. In practice, alongiside classical noise, there also exists coherent noise. Information about both of these noises can be, in a way, extracted from QDT. The usage of QDT module has been extracted in previous section.\n",
    "\n",
    "Let $M$ denote POVM describing noisy detector and $P$ denote ideal measurement. Then classical error can be mathematically expressed as a stochastic, invertable map $\\Lambda$ in such way, that:\n",
    "\n",
    "$$ M = \\Lambda P.$$\n",
    "\n",
    "If that's that case, then following correction procedure can be applied. Imagine, we've access to experimental statistics $p_{exp}$ and we want to correct them in such way, that would allow us to obtain ideal one $p_{ideal}$. Due to the assumed nature of the noise, we can write, that:\n",
    "\n",
    "$$ p_{exp} = \\Lambda p_{ideal}. $$\n",
    "\n",
    "We've assumed, when describing the noise, that $\\Lambda$ is invertible. If so, then by multiplying last equation by $\\Lambda^{-1}$ from both sides, we obtain\n",
    "\n",
    "$$ \\Lambda^{-1} p_{exp} = p_{ideal}. $$\n",
    "\n",
    "Effectively, by this kind of postprocessing, we obtain statistics close to what we would normally obtain on non-noisy devices."
   ]
  },
  {
   "cell_type": "markdown",
   "metadata": {},
   "source": [
    "## Mitigating error using our module\n",
    "\n",
    "Out error mitigation approach is based on QDT. Therefore in order to use it, we first need to obtain POVM describing our detectors. In order to do that, we can follow the steps from our [QDT tutorial](https://github.com/fbm2718/QREM/blob/master/QDT_Tutorial.ipynb). We do just that.\n"
   ]
  },
  {
   "cell_type": "code",
   "execution_count": 1,
   "metadata": {},
   "outputs": [],
   "source": [
    "import povmtools\n",
    "import ancillary_functions as anf\n",
    "import numpy as np\n",
    "\n",
    "from qiskit import IBMQ, Aer, execute\n",
    "from qiskit.providers.aer import noise\n",
    "\n",
    "from quantum_tomography_qiskit import detector_tomography_circuits\n",
    "from DetectorTomographyFitter import DetectorTomographyFitter\n",
    "\n",
    "\n",
    "# Choose qubit indices\n",
    "QDT_qubit_index = [3]\n",
    "\n",
    "# Select probe kets\n",
    "QDT_probe_kets = povmtools.pauli_probe_eigenkets\n",
    "\n",
    "# Generate circuits\n",
    "QDT_circuits = detector_tomography_circuits(QDT_qubit_index, QDT_probe_kets)\n",
    "\n",
    "# Get QDT circuits results\n",
    "backend = Aer.get_backend('qasm_simulator')  #  Get backed\n",
    "shots_number = 2000  # Define number of measurement repetitions\n",
    "QDT_job = execute(QDT_circuits, backend=backend, shots=shots_number)\n",
    "results = QDT_job.result()\n",
    "\n",
    "# Get ml_povm_estimator using DTF and results\n",
    "DTF = DetectorTomographyFitter()\n",
    "ml_povm_estimator = DTF.get_maximum_likelihood_povm_estimator([results], QDT_probe_kets)"
   ]
  },
  {
   "cell_type": "markdown",
   "metadata": {},
   "source": [
    "Now, that we have POVM, we can create QDTErrorMitigator object and prepare it."
   ]
  },
  {
   "cell_type": "code",
   "execution_count": null,
   "metadata": {},
   "outputs": [],
   "source": [
    "# Creation and preparation of QDTErrorMitigator\n",
    "mitigator = QDTErrorMitigator()\n",
    "mitigator.prepare_mitigator(ml_povm_estimator)"
   ]
  },
  {
   "cell_type": "markdown",
   "metadata": {},
   "source": [
    "With prepared mitigator object we gain access to several useful functionalities. For example, we can:\n",
    "* Correct results of qiskit job by using apply_correction_to_qiskit_job(Results) method.\n",
    "* Access transition and correction matrices obtained from POVM given during preparation.\n",
    "\n",
    "In order to properly analyse the results of correction procedure, one have to be aware that in some cases raw application of $\\Lambda^{-1}$ to the results may yield quasiprobability (instead of probability) vectors. In such scenario our method calculates closest probability vectors and returns them instead. Distances from raw quasiprobabilities to returned probabilities, can be accessed via distances_from_closest_probability_vector member of mitigator object."
   ]
  },
  {
   "cell_type": "markdown",
   "metadata": {},
   "source": [
    "### Error bounds\n",
    "\n",
    "With access to POVM and the correction and transition matrices, we are able to calculate bounds on several errors. In particular, using povtools module, we can calculate:\n",
    "*statistical error bound (using get_statistical_erro, coherent error bound and correction error bound.  "
   ]
  }
 ],
 "metadata": {
  "kernelspec": {
   "display_name": "Python 3",
   "language": "python",
   "name": "python3"
  },
  "language_info": {
   "codemirror_mode": {
    "name": "ipython",
    "version": 3
   },
   "file_extension": ".py",
   "mimetype": "text/x-python",
   "name": "python",
   "nbconvert_exporter": "python",
   "pygments_lexer": "ipython3",
   "version": "3.8.1"
  }
 },
 "nbformat": 4,
 "nbformat_minor": 2
}
